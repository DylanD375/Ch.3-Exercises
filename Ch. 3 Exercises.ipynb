{
 "cells": [
  {
   "cell_type": "code",
   "execution_count": 1,
   "id": "cb146235",
   "metadata": {},
   "outputs": [
    {
     "data": {
      "text/plain": [
       "dict_keys(['data', 'target', 'frame', 'categories', 'feature_names', 'target_names', 'DESCR', 'details', 'url'])"
      ]
     },
     "execution_count": 1,
     "metadata": {},
     "output_type": "execute_result"
    }
   ],
   "source": [
    "from sklearn.datasets import fetch_openml\n",
    "mnist = fetch_openml('mnist_784', version=1)\n",
    "mnist.keys()\n",
    "\n",
    "X, y = mnist[\"data\"], mnist[\"target\"]\n",
    "X.shape\n",
    "y.shape\n",
    "\n",
    "import matplotlib as mpl\n",
    "import matplotlib.pyplot as plt\n",
    "some_digit = X.to_numpy()[0]\n",
    "some_digit_image = some_digit.reshape(28, 28)\n",
    "plt.imshow(some_digit_image, cmap = mpl.cm.binary, interpolation=\"nearest\")\n",
    "plt.axis(\"off\")\n",
    "plt.show()\n",
    "\n",
    "y[0]\n",
    "\n",
    "import numpy as np\n",
    "y = y.astype(np.uint8)\n",
    "\n",
    "X_train, X_test, y_train, y_test = X[:60000], X[60000:], y[:60000], y[60000:]\n",
    "\n",
    "y_train_5 = (y_train == 5)\n",
    "y_test_5 = (y_test == 5)\n",
    "\n",
    "from sklearn.linear_model import SGDClassifier\n",
    "sgd_clf = SGDClassifier(random_state=42)\n",
    "sgd_clf.fit(X_train, y_train_5)\n",
    "sgd_clf.predict([some_digit])\n",
    "\n",
    "from sklearn.model_selection import cross_val_score\n",
    "cross_val_score(sgd_clf, X_train, y_train_5, cv=3, scoring=\"accuracy\")\n",
    "\n",
    "from sklearn.base import BaseEstimator\n",
    "class Never5Classifier(BaseEstimator):\n",
    "    def fit(self, X, y=None):\n",
    "        pass\n",
    "    def predict(self, X):\n",
    "        return np.zeros((len(X), 1), dtype=bool)\n",
    "    \n",
    "never_5_clf = Never5Classifier()\n",
    "cross_val_score(never_5_clf, X_train, y_train_5, cv=3, scoring=\"accuracy\")\n",
    "\n",
    "from sklearn.model_selection import cross_val_predict\n",
    "y_train_pred = cross_val_predict(sgd_clf, X_train, y_train_5, cv=3)\n",
    "\n",
    "from sklearn.metrics import confusion_matrix\n",
    "confusion_matrix(y_train_5, y_train_pred)\n",
    "\n",
    "y_train_perfect_predictions = y_train_5\n",
    "confusion_matrix(y_train_5, y_train_perfect_predictions)\n",
    "\n",
    "from sklearn.metrics import precision_score, recall_score\n",
    "precision_score(y_train_5, y_train_pred)\n",
    "recall_score(y_train_5, y_train_pred)\n",
    "\n",
    "from sklearn.metrics import f1_score\n",
    "f1_score(y_train_5, y_train_pred)\n",
    "\n",
    "y_scores = sgd_clf.decision_function([some_digit])\n",
    "y_scores\n",
    "threshold = 0\n",
    "y_some_digit_pred = (y_scores > threshold)\n",
    "threshold = 8000\n",
    "y_some_digit_pred = (y_scores > threshold)\n",
    "y_some_digit_pred\n",
    "y_scores = cross_val_predict(sgd_clf, X_train, y_train_5, cv=3,\n",
    "                            method = \"decision_function\")\n",
    "\n",
    "from sklearn.metrics import precision_recall_curve\n",
    "precisions, recalls, thresholds = precision_recall_curve(y_train_5, y_scores)\n",
    "def plot_precision_recall_vs_threshold(precisions, recalls, thresholds):\n",
    "    plt.plot(thresholds, precisions[:-1], \"b--\", label=\"Precision\")\n",
    "    plt.plot(thresholds, recalls[:-1], \"g-\", label=\"Recall\")\n",
    "plot_precision_recall_vs_threshold(precisions, recalls, thresholds)\n",
    "plt.show()\n",
    "\n",
    "threshold_90_precision = thresholds[np.argmax(precisions >= 0.90)]\n",
    "y_train_pred_90 = (y_scores >= threshold_90_precision)\n",
    "precision_score(y_train_5, y_train_pred_90)\n",
    "recall_score(y_train_5, y_train_pred_90)\n",
    "\n",
    "from sklearn.metrics import roc_curve\n",
    "fpr, tpr, thresholds = roc_curve(y_train_5, y_scores)\n",
    "def plot_roc_curve(fpr, tpr, label=None):\n",
    "    plt.plot(fpr, tpr, linewidth=2, label=label)\n",
    "    plt.plot([0,1], [0,1], 'k--')\n",
    "plot_roc_curve(fpr,tpr)\n",
    "plt.show()\n",
    "\n",
    "from sklearn.metrics import roc_auc_score\n",
    "roc_auc_score(y_train_5, y_scores)\n",
    "\n",
    "from sklearn.ensemble import RandomForestClassifier\n",
    "forest_clf = RandomForestClassifier(random_state=42)\n",
    "y_probas_forest = cross_val_predict(forest_clf, X_train, y_train_5, cv=3,\n",
    "                                    method = \"predict_proba\")\n",
    "y_scores_forest = y_probas_forest[:, 1]\n",
    "fpr_forest, tpr_forest, thresholds_forest = roc_curve(y_train_5, y_scores_forest)\n",
    "plt.plot(fpr, tpr, \"b:\", label=\"SGD\")\n",
    "plot_roc_curve(fpr_forest, tpr_forest, \"Random Forest\")\n",
    "plt.legend(loc=\"lower right\")\n",
    "plt.show()\n",
    "roc_auc_score(y_train_5, y_scores_forest)\n",
    "\n",
    "sgd_clf.fit(X_train, y_train)\n",
    "sgd_clf.predict([some_digit])\n",
    "\n",
    "some_digit_scores = sgd_clf.decision_function([some_digit])\n",
    "some_digit_scores\n",
    "np.argmax(some_digit_scores)\n",
    "sgd_clf.classes_\n",
    "sgd_clf.classes_[5]\n",
    "\n",
    "from sklearn.multiclass import OneVsOneClassifier\n",
    "ovo_clf = OneVsOneClassifier(SGDClassifier(random_state=42))\n",
    "ovo_clf.fit(X_train, y_train)\n",
    "ovo_clf.predict([some_digit])\n",
    "\n",
    "len(ovo_clf.estimators_)\n",
    "forest_clf.fit(X_train, y_train)\n",
    "forest_clf.predict([some_digit])\n",
    "forest_clf.predict_proba([some_digit])\n",
    "cross_val_score(sgd_clf, X_train, y_train, cv=3, scoring=\"accuracy\")\n",
    "\n",
    "from sklearn.preprocessing import StandardScaler\n",
    "scaler = StandardScaler()\n",
    "X_train_scaled = scaler.fit_transform(X_train.astype(np.float64))\n",
    "cross_val_score(sgd_clf, X_train_scaled, y_train, cv=3, scoring=\"accuracy\")\n",
    "\n",
    "y_train_pred = cross_val_predict(sgd_clf, X_train_scaled, y_train, cv=3)\n",
    "conf_mx = confusion_matrix(y_train, y_train_pred)\n",
    "conf_mx\n",
    "\n",
    "plt.matshow(conf_mx, cmap=plt.cm.gray)\n",
    "plt.show()\n",
    "\n",
    "row_sums = conf_mx.sum(axis=1, keepdims=True)\n",
    "norm_conf_mx = conf_mx / row_sums\n",
    "np.fill_diagonal(norm_conf_mx, 0)\n",
    "plt.matshow(norm_conf_mx, cmap=plt.cm.gray)\n",
    "plt.show()\n",
    "\n",
    "cl_a, cl_b = 3,5\n",
    "X_aa = np.array(X_train[(y_train == cl_a) & (y_train_pred == cl_a)])\n",
    "X_ab = np.array(X_train[(y_train == cl_a) & (y_train_pred == cl_b)])\n",
    "X_ba = np.array(X_train[(y_train == cl_b) & (y_train_pred == cl_a)])\n",
    "X_bb = np.array(X_train[(y_train == cl_b) & (y_train_pred == cl_b)])\n",
    "\n",
    "plt.figure(figsize=(8,8))\n",
    "plt.subplot(2,2,1); plot_digits(X_aa[:25], images_per_row=5)\n",
    "plt.subplot(2,2,2); plot_digits(X_ab[:25], images_per_row=5)\n",
    "plt.subplot(2,2,3); plot_digits(X_ba[:25], images_per_row=5)\n",
    "plt.subplot(2,2,4); plot_digits(X_bb[:25], images_per_row=5)\n",
    "plt.show()\n",
    "\n",
    "from sklearn.neighbors import KNeighborsClassifier\n",
    "y_train_large = (y_train >= 7)\n",
    "y_train_odd = (y_train % 2 == 1)\n",
    "y_multilabel = np.c_[y_train_large, y_train_odd]\n",
    "knn_clf = KNeighborsClassifier()\n",
    "knn_clf.fit(X_train, y_multilabel)\n",
    "knn_clf.predict([some_digit])\n",
    "\n",
    "y_train_knn_pred = cross_val_predict(knn_clf, X_train, y_multilabel, cv=3)\n",
    "f1_score(y_multilabel, y_train_knn_pred, average=\"macro\")\n",
    "knn_clf.fit(X_train_mod, y_train_mod)\n",
    "clean_digit = knn_clf.predict([X_test_mod[some_index]])\n",
    "plot_digit(clean_digit)\n",
    "\n",
    "noise = np.random.randint(0, 100, (len(X_train), 784))\n",
    "X_train_mod = X_train + noise\n",
    "noise = np.random.randint(0, 100, (len(X_test), 784))\n",
    "X_test_mod = X_test + noise\n",
    "y_train_mod = X_train\n",
    "y_test_mod = X_test"
   ]
  },
  {
   "cell_type": "code",
   "execution_count": null,
   "id": "c159ff1c",
   "metadata": {},
   "outputs": [],
   "source": []
  },
  {
   "cell_type": "code",
   "execution_count": null,
   "id": "a5ec2ab4",
   "metadata": {},
   "outputs": [],
   "source": [
    "#I certify that this assignment is entirely my own work. "
   ]
  },
  {
   "cell_type": "code",
   "execution_count": 38,
   "id": "b1eaf97e",
   "metadata": {},
   "outputs": [
    {
     "name": "stdout",
     "output_type": "stream",
     "text": [
      "Fitting 5 folds for each of 6 candidates, totalling 30 fits\n"
     ]
    },
    {
     "name": "stderr",
     "output_type": "stream",
     "text": [
      "C:\\Users\\raven\\anaconda3\\lib\\site-packages\\sklearn\\model_selection\\_validation.py:776: UserWarning: Scoring failed. The score on this train-test partition for these parameters will be set to nan. Details: \n",
      "Traceback (most recent call last):\n",
      "  File \"C:\\Users\\raven\\anaconda3\\lib\\site-packages\\sklearn\\model_selection\\_validation.py\", line 767, in _score\n",
      "    scores = scorer(estimator, X_test, y_test)\n",
      "  File \"C:\\Users\\raven\\anaconda3\\lib\\site-packages\\sklearn\\metrics\\_scorer.py\", line 429, in _passthrough_scorer\n",
      "    return estimator.score(*args, **kwargs)\n",
      "  File \"C:\\Users\\raven\\anaconda3\\lib\\site-packages\\sklearn\\base.py\", line 666, in score\n",
      "    return accuracy_score(y, self.predict(X), sample_weight=sample_weight)\n",
      "  File \"C:\\Users\\raven\\anaconda3\\lib\\site-packages\\sklearn\\neighbors\\_classification.py\", line 226, in predict\n",
      "    neigh_ind = self.kneighbors(X, return_distance=False)\n",
      "  File \"C:\\Users\\raven\\anaconda3\\lib\\site-packages\\sklearn\\neighbors\\_base.py\", line 763, in kneighbors\n",
      "    results = PairwiseDistancesArgKmin.compute(\n",
      "  File \"sklearn\\metrics\\_pairwise_distances_reduction.pyx\", line 698, in sklearn.metrics._pairwise_distances_reduction.PairwiseDistancesArgKmin.compute\n",
      "  File \"C:\\Users\\raven\\anaconda3\\lib\\site-packages\\sklearn\\utils\\fixes.py\", line 151, in threadpool_limits\n",
      "    return threadpoolctl.threadpool_limits(limits=limits, user_api=user_api)\n",
      "  File \"C:\\Users\\raven\\anaconda3\\lib\\site-packages\\threadpoolctl.py\", line 171, in __init__\n",
      "    self._original_info = self._set_threadpool_limits()\n",
      "  File \"C:\\Users\\raven\\anaconda3\\lib\\site-packages\\threadpoolctl.py\", line 268, in _set_threadpool_limits\n",
      "    modules = _ThreadpoolInfo(prefixes=self._prefixes,\n",
      "  File \"C:\\Users\\raven\\anaconda3\\lib\\site-packages\\threadpoolctl.py\", line 340, in __init__\n",
      "    self._load_modules()\n",
      "  File \"C:\\Users\\raven\\anaconda3\\lib\\site-packages\\threadpoolctl.py\", line 373, in _load_modules\n",
      "    self._find_modules_with_enum_process_module_ex()\n",
      "  File \"C:\\Users\\raven\\anaconda3\\lib\\site-packages\\threadpoolctl.py\", line 485, in _find_modules_with_enum_process_module_ex\n",
      "    self._make_module_from_path(filepath)\n",
      "  File \"C:\\Users\\raven\\anaconda3\\lib\\site-packages\\threadpoolctl.py\", line 515, in _make_module_from_path\n",
      "    module = module_class(filepath, prefix, user_api, internal_api)\n",
      "  File \"C:\\Users\\raven\\anaconda3\\lib\\site-packages\\threadpoolctl.py\", line 606, in __init__\n",
      "    self.version = self.get_version()\n",
      "  File \"C:\\Users\\raven\\anaconda3\\lib\\site-packages\\threadpoolctl.py\", line 646, in get_version\n",
      "    config = get_config().split()\n",
      "AttributeError: 'NoneType' object has no attribute 'split'\n",
      "\n",
      "  warnings.warn(\n"
     ]
    },
    {
     "name": "stdout",
     "output_type": "stream",
     "text": [
      "[CV 1/5] END ......n_neighbors=3, weights=uniform;, score=nan total time=   0.3s\n"
     ]
    },
    {
     "name": "stderr",
     "output_type": "stream",
     "text": [
      "C:\\Users\\raven\\anaconda3\\lib\\site-packages\\sklearn\\model_selection\\_validation.py:776: UserWarning: Scoring failed. The score on this train-test partition for these parameters will be set to nan. Details: \n",
      "Traceback (most recent call last):\n",
      "  File \"C:\\Users\\raven\\anaconda3\\lib\\site-packages\\sklearn\\model_selection\\_validation.py\", line 767, in _score\n",
      "    scores = scorer(estimator, X_test, y_test)\n",
      "  File \"C:\\Users\\raven\\anaconda3\\lib\\site-packages\\sklearn\\metrics\\_scorer.py\", line 429, in _passthrough_scorer\n",
      "    return estimator.score(*args, **kwargs)\n",
      "  File \"C:\\Users\\raven\\anaconda3\\lib\\site-packages\\sklearn\\base.py\", line 666, in score\n",
      "    return accuracy_score(y, self.predict(X), sample_weight=sample_weight)\n",
      "  File \"C:\\Users\\raven\\anaconda3\\lib\\site-packages\\sklearn\\neighbors\\_classification.py\", line 226, in predict\n",
      "    neigh_ind = self.kneighbors(X, return_distance=False)\n",
      "  File \"C:\\Users\\raven\\anaconda3\\lib\\site-packages\\sklearn\\neighbors\\_base.py\", line 763, in kneighbors\n",
      "    results = PairwiseDistancesArgKmin.compute(\n",
      "  File \"sklearn\\metrics\\_pairwise_distances_reduction.pyx\", line 698, in sklearn.metrics._pairwise_distances_reduction.PairwiseDistancesArgKmin.compute\n",
      "  File \"C:\\Users\\raven\\anaconda3\\lib\\site-packages\\sklearn\\utils\\fixes.py\", line 151, in threadpool_limits\n",
      "    return threadpoolctl.threadpool_limits(limits=limits, user_api=user_api)\n",
      "  File \"C:\\Users\\raven\\anaconda3\\lib\\site-packages\\threadpoolctl.py\", line 171, in __init__\n",
      "    self._original_info = self._set_threadpool_limits()\n",
      "  File \"C:\\Users\\raven\\anaconda3\\lib\\site-packages\\threadpoolctl.py\", line 268, in _set_threadpool_limits\n",
      "    modules = _ThreadpoolInfo(prefixes=self._prefixes,\n",
      "  File \"C:\\Users\\raven\\anaconda3\\lib\\site-packages\\threadpoolctl.py\", line 340, in __init__\n",
      "    self._load_modules()\n",
      "  File \"C:\\Users\\raven\\anaconda3\\lib\\site-packages\\threadpoolctl.py\", line 373, in _load_modules\n",
      "    self._find_modules_with_enum_process_module_ex()\n",
      "  File \"C:\\Users\\raven\\anaconda3\\lib\\site-packages\\threadpoolctl.py\", line 485, in _find_modules_with_enum_process_module_ex\n",
      "    self._make_module_from_path(filepath)\n",
      "  File \"C:\\Users\\raven\\anaconda3\\lib\\site-packages\\threadpoolctl.py\", line 515, in _make_module_from_path\n",
      "    module = module_class(filepath, prefix, user_api, internal_api)\n",
      "  File \"C:\\Users\\raven\\anaconda3\\lib\\site-packages\\threadpoolctl.py\", line 606, in __init__\n",
      "    self.version = self.get_version()\n",
      "  File \"C:\\Users\\raven\\anaconda3\\lib\\site-packages\\threadpoolctl.py\", line 646, in get_version\n",
      "    config = get_config().split()\n",
      "AttributeError: 'NoneType' object has no attribute 'split'\n",
      "\n",
      "  warnings.warn(\n"
     ]
    },
    {
     "name": "stdout",
     "output_type": "stream",
     "text": [
      "[CV 2/5] END ......n_neighbors=3, weights=uniform;, score=nan total time=   0.3s\n"
     ]
    },
    {
     "name": "stderr",
     "output_type": "stream",
     "text": [
      "C:\\Users\\raven\\anaconda3\\lib\\site-packages\\sklearn\\model_selection\\_validation.py:776: UserWarning: Scoring failed. The score on this train-test partition for these parameters will be set to nan. Details: \n",
      "Traceback (most recent call last):\n",
      "  File \"C:\\Users\\raven\\anaconda3\\lib\\site-packages\\sklearn\\model_selection\\_validation.py\", line 767, in _score\n",
      "    scores = scorer(estimator, X_test, y_test)\n",
      "  File \"C:\\Users\\raven\\anaconda3\\lib\\site-packages\\sklearn\\metrics\\_scorer.py\", line 429, in _passthrough_scorer\n",
      "    return estimator.score(*args, **kwargs)\n",
      "  File \"C:\\Users\\raven\\anaconda3\\lib\\site-packages\\sklearn\\base.py\", line 666, in score\n",
      "    return accuracy_score(y, self.predict(X), sample_weight=sample_weight)\n",
      "  File \"C:\\Users\\raven\\anaconda3\\lib\\site-packages\\sklearn\\neighbors\\_classification.py\", line 226, in predict\n",
      "    neigh_ind = self.kneighbors(X, return_distance=False)\n",
      "  File \"C:\\Users\\raven\\anaconda3\\lib\\site-packages\\sklearn\\neighbors\\_base.py\", line 763, in kneighbors\n",
      "    results = PairwiseDistancesArgKmin.compute(\n",
      "  File \"sklearn\\metrics\\_pairwise_distances_reduction.pyx\", line 698, in sklearn.metrics._pairwise_distances_reduction.PairwiseDistancesArgKmin.compute\n",
      "  File \"C:\\Users\\raven\\anaconda3\\lib\\site-packages\\sklearn\\utils\\fixes.py\", line 151, in threadpool_limits\n",
      "    return threadpoolctl.threadpool_limits(limits=limits, user_api=user_api)\n",
      "  File \"C:\\Users\\raven\\anaconda3\\lib\\site-packages\\threadpoolctl.py\", line 171, in __init__\n",
      "    self._original_info = self._set_threadpool_limits()\n",
      "  File \"C:\\Users\\raven\\anaconda3\\lib\\site-packages\\threadpoolctl.py\", line 268, in _set_threadpool_limits\n",
      "    modules = _ThreadpoolInfo(prefixes=self._prefixes,\n",
      "  File \"C:\\Users\\raven\\anaconda3\\lib\\site-packages\\threadpoolctl.py\", line 340, in __init__\n",
      "    self._load_modules()\n",
      "  File \"C:\\Users\\raven\\anaconda3\\lib\\site-packages\\threadpoolctl.py\", line 373, in _load_modules\n",
      "    self._find_modules_with_enum_process_module_ex()\n",
      "  File \"C:\\Users\\raven\\anaconda3\\lib\\site-packages\\threadpoolctl.py\", line 485, in _find_modules_with_enum_process_module_ex\n",
      "    self._make_module_from_path(filepath)\n",
      "  File \"C:\\Users\\raven\\anaconda3\\lib\\site-packages\\threadpoolctl.py\", line 515, in _make_module_from_path\n",
      "    module = module_class(filepath, prefix, user_api, internal_api)\n",
      "  File \"C:\\Users\\raven\\anaconda3\\lib\\site-packages\\threadpoolctl.py\", line 606, in __init__\n",
      "    self.version = self.get_version()\n",
      "  File \"C:\\Users\\raven\\anaconda3\\lib\\site-packages\\threadpoolctl.py\", line 646, in get_version\n",
      "    config = get_config().split()\n",
      "AttributeError: 'NoneType' object has no attribute 'split'\n",
      "\n",
      "  warnings.warn(\n"
     ]
    },
    {
     "name": "stdout",
     "output_type": "stream",
     "text": [
      "[CV 3/5] END ......n_neighbors=3, weights=uniform;, score=nan total time=   0.3s\n"
     ]
    },
    {
     "name": "stderr",
     "output_type": "stream",
     "text": [
      "C:\\Users\\raven\\anaconda3\\lib\\site-packages\\sklearn\\model_selection\\_validation.py:776: UserWarning: Scoring failed. The score on this train-test partition for these parameters will be set to nan. Details: \n",
      "Traceback (most recent call last):\n",
      "  File \"C:\\Users\\raven\\anaconda3\\lib\\site-packages\\sklearn\\model_selection\\_validation.py\", line 767, in _score\n",
      "    scores = scorer(estimator, X_test, y_test)\n",
      "  File \"C:\\Users\\raven\\anaconda3\\lib\\site-packages\\sklearn\\metrics\\_scorer.py\", line 429, in _passthrough_scorer\n",
      "    return estimator.score(*args, **kwargs)\n",
      "  File \"C:\\Users\\raven\\anaconda3\\lib\\site-packages\\sklearn\\base.py\", line 666, in score\n",
      "    return accuracy_score(y, self.predict(X), sample_weight=sample_weight)\n",
      "  File \"C:\\Users\\raven\\anaconda3\\lib\\site-packages\\sklearn\\neighbors\\_classification.py\", line 226, in predict\n",
      "    neigh_ind = self.kneighbors(X, return_distance=False)\n",
      "  File \"C:\\Users\\raven\\anaconda3\\lib\\site-packages\\sklearn\\neighbors\\_base.py\", line 763, in kneighbors\n",
      "    results = PairwiseDistancesArgKmin.compute(\n",
      "  File \"sklearn\\metrics\\_pairwise_distances_reduction.pyx\", line 698, in sklearn.metrics._pairwise_distances_reduction.PairwiseDistancesArgKmin.compute\n",
      "  File \"C:\\Users\\raven\\anaconda3\\lib\\site-packages\\sklearn\\utils\\fixes.py\", line 151, in threadpool_limits\n",
      "    return threadpoolctl.threadpool_limits(limits=limits, user_api=user_api)\n",
      "  File \"C:\\Users\\raven\\anaconda3\\lib\\site-packages\\threadpoolctl.py\", line 171, in __init__\n",
      "    self._original_info = self._set_threadpool_limits()\n",
      "  File \"C:\\Users\\raven\\anaconda3\\lib\\site-packages\\threadpoolctl.py\", line 268, in _set_threadpool_limits\n",
      "    modules = _ThreadpoolInfo(prefixes=self._prefixes,\n",
      "  File \"C:\\Users\\raven\\anaconda3\\lib\\site-packages\\threadpoolctl.py\", line 340, in __init__\n",
      "    self._load_modules()\n",
      "  File \"C:\\Users\\raven\\anaconda3\\lib\\site-packages\\threadpoolctl.py\", line 373, in _load_modules\n",
      "    self._find_modules_with_enum_process_module_ex()\n",
      "  File \"C:\\Users\\raven\\anaconda3\\lib\\site-packages\\threadpoolctl.py\", line 485, in _find_modules_with_enum_process_module_ex\n",
      "    self._make_module_from_path(filepath)\n",
      "  File \"C:\\Users\\raven\\anaconda3\\lib\\site-packages\\threadpoolctl.py\", line 515, in _make_module_from_path\n",
      "    module = module_class(filepath, prefix, user_api, internal_api)\n",
      "  File \"C:\\Users\\raven\\anaconda3\\lib\\site-packages\\threadpoolctl.py\", line 606, in __init__\n",
      "    self.version = self.get_version()\n",
      "  File \"C:\\Users\\raven\\anaconda3\\lib\\site-packages\\threadpoolctl.py\", line 646, in get_version\n",
      "    config = get_config().split()\n",
      "AttributeError: 'NoneType' object has no attribute 'split'\n",
      "\n",
      "  warnings.warn(\n"
     ]
    },
    {
     "name": "stdout",
     "output_type": "stream",
     "text": [
      "[CV 4/5] END ......n_neighbors=3, weights=uniform;, score=nan total time=   0.3s\n"
     ]
    },
    {
     "name": "stderr",
     "output_type": "stream",
     "text": [
      "C:\\Users\\raven\\anaconda3\\lib\\site-packages\\sklearn\\model_selection\\_validation.py:776: UserWarning: Scoring failed. The score on this train-test partition for these parameters will be set to nan. Details: \n",
      "Traceback (most recent call last):\n",
      "  File \"C:\\Users\\raven\\anaconda3\\lib\\site-packages\\sklearn\\model_selection\\_validation.py\", line 767, in _score\n",
      "    scores = scorer(estimator, X_test, y_test)\n",
      "  File \"C:\\Users\\raven\\anaconda3\\lib\\site-packages\\sklearn\\metrics\\_scorer.py\", line 429, in _passthrough_scorer\n",
      "    return estimator.score(*args, **kwargs)\n",
      "  File \"C:\\Users\\raven\\anaconda3\\lib\\site-packages\\sklearn\\base.py\", line 666, in score\n",
      "    return accuracy_score(y, self.predict(X), sample_weight=sample_weight)\n",
      "  File \"C:\\Users\\raven\\anaconda3\\lib\\site-packages\\sklearn\\neighbors\\_classification.py\", line 226, in predict\n",
      "    neigh_ind = self.kneighbors(X, return_distance=False)\n",
      "  File \"C:\\Users\\raven\\anaconda3\\lib\\site-packages\\sklearn\\neighbors\\_base.py\", line 763, in kneighbors\n",
      "    results = PairwiseDistancesArgKmin.compute(\n",
      "  File \"sklearn\\metrics\\_pairwise_distances_reduction.pyx\", line 698, in sklearn.metrics._pairwise_distances_reduction.PairwiseDistancesArgKmin.compute\n",
      "  File \"C:\\Users\\raven\\anaconda3\\lib\\site-packages\\sklearn\\utils\\fixes.py\", line 151, in threadpool_limits\n",
      "    return threadpoolctl.threadpool_limits(limits=limits, user_api=user_api)\n",
      "  File \"C:\\Users\\raven\\anaconda3\\lib\\site-packages\\threadpoolctl.py\", line 171, in __init__\n",
      "    self._original_info = self._set_threadpool_limits()\n",
      "  File \"C:\\Users\\raven\\anaconda3\\lib\\site-packages\\threadpoolctl.py\", line 268, in _set_threadpool_limits\n",
      "    modules = _ThreadpoolInfo(prefixes=self._prefixes,\n",
      "  File \"C:\\Users\\raven\\anaconda3\\lib\\site-packages\\threadpoolctl.py\", line 340, in __init__\n",
      "    self._load_modules()\n",
      "  File \"C:\\Users\\raven\\anaconda3\\lib\\site-packages\\threadpoolctl.py\", line 373, in _load_modules\n",
      "    self._find_modules_with_enum_process_module_ex()\n",
      "  File \"C:\\Users\\raven\\anaconda3\\lib\\site-packages\\threadpoolctl.py\", line 485, in _find_modules_with_enum_process_module_ex\n",
      "    self._make_module_from_path(filepath)\n",
      "  File \"C:\\Users\\raven\\anaconda3\\lib\\site-packages\\threadpoolctl.py\", line 515, in _make_module_from_path\n",
      "    module = module_class(filepath, prefix, user_api, internal_api)\n",
      "  File \"C:\\Users\\raven\\anaconda3\\lib\\site-packages\\threadpoolctl.py\", line 606, in __init__\n",
      "    self.version = self.get_version()\n",
      "  File \"C:\\Users\\raven\\anaconda3\\lib\\site-packages\\threadpoolctl.py\", line 646, in get_version\n",
      "    config = get_config().split()\n",
      "AttributeError: 'NoneType' object has no attribute 'split'\n",
      "\n",
      "  warnings.warn(\n"
     ]
    },
    {
     "name": "stdout",
     "output_type": "stream",
     "text": [
      "[CV 5/5] END ......n_neighbors=3, weights=uniform;, score=nan total time=   0.3s\n"
     ]
    },
    {
     "name": "stderr",
     "output_type": "stream",
     "text": [
      "C:\\Users\\raven\\anaconda3\\lib\\site-packages\\sklearn\\model_selection\\_validation.py:776: UserWarning: Scoring failed. The score on this train-test partition for these parameters will be set to nan. Details: \n",
      "Traceback (most recent call last):\n",
      "  File \"C:\\Users\\raven\\anaconda3\\lib\\site-packages\\sklearn\\model_selection\\_validation.py\", line 767, in _score\n",
      "    scores = scorer(estimator, X_test, y_test)\n",
      "  File \"C:\\Users\\raven\\anaconda3\\lib\\site-packages\\sklearn\\metrics\\_scorer.py\", line 429, in _passthrough_scorer\n",
      "    return estimator.score(*args, **kwargs)\n",
      "  File \"C:\\Users\\raven\\anaconda3\\lib\\site-packages\\sklearn\\base.py\", line 666, in score\n",
      "    return accuracy_score(y, self.predict(X), sample_weight=sample_weight)\n",
      "  File \"C:\\Users\\raven\\anaconda3\\lib\\site-packages\\sklearn\\neighbors\\_classification.py\", line 229, in predict\n",
      "    neigh_dist, neigh_ind = self.kneighbors(X)\n",
      "  File \"C:\\Users\\raven\\anaconda3\\lib\\site-packages\\sklearn\\neighbors\\_base.py\", line 763, in kneighbors\n",
      "    results = PairwiseDistancesArgKmin.compute(\n",
      "  File \"sklearn\\metrics\\_pairwise_distances_reduction.pyx\", line 698, in sklearn.metrics._pairwise_distances_reduction.PairwiseDistancesArgKmin.compute\n",
      "  File \"C:\\Users\\raven\\anaconda3\\lib\\site-packages\\sklearn\\utils\\fixes.py\", line 151, in threadpool_limits\n",
      "    return threadpoolctl.threadpool_limits(limits=limits, user_api=user_api)\n",
      "  File \"C:\\Users\\raven\\anaconda3\\lib\\site-packages\\threadpoolctl.py\", line 171, in __init__\n",
      "    self._original_info = self._set_threadpool_limits()\n",
      "  File \"C:\\Users\\raven\\anaconda3\\lib\\site-packages\\threadpoolctl.py\", line 268, in _set_threadpool_limits\n",
      "    modules = _ThreadpoolInfo(prefixes=self._prefixes,\n",
      "  File \"C:\\Users\\raven\\anaconda3\\lib\\site-packages\\threadpoolctl.py\", line 340, in __init__\n",
      "    self._load_modules()\n",
      "  File \"C:\\Users\\raven\\anaconda3\\lib\\site-packages\\threadpoolctl.py\", line 373, in _load_modules\n",
      "    self._find_modules_with_enum_process_module_ex()\n",
      "  File \"C:\\Users\\raven\\anaconda3\\lib\\site-packages\\threadpoolctl.py\", line 485, in _find_modules_with_enum_process_module_ex\n",
      "    self._make_module_from_path(filepath)\n",
      "  File \"C:\\Users\\raven\\anaconda3\\lib\\site-packages\\threadpoolctl.py\", line 515, in _make_module_from_path\n",
      "    module = module_class(filepath, prefix, user_api, internal_api)\n",
      "  File \"C:\\Users\\raven\\anaconda3\\lib\\site-packages\\threadpoolctl.py\", line 606, in __init__\n",
      "    self.version = self.get_version()\n",
      "  File \"C:\\Users\\raven\\anaconda3\\lib\\site-packages\\threadpoolctl.py\", line 646, in get_version\n",
      "    config = get_config().split()\n",
      "AttributeError: 'NoneType' object has no attribute 'split'\n",
      "\n",
      "  warnings.warn(\n"
     ]
    },
    {
     "name": "stdout",
     "output_type": "stream",
     "text": [
      "[CV 1/5] END .....n_neighbors=3, weights=distance;, score=nan total time=   0.3s\n"
     ]
    },
    {
     "name": "stderr",
     "output_type": "stream",
     "text": [
      "C:\\Users\\raven\\anaconda3\\lib\\site-packages\\sklearn\\model_selection\\_validation.py:776: UserWarning: Scoring failed. The score on this train-test partition for these parameters will be set to nan. Details: \n",
      "Traceback (most recent call last):\n",
      "  File \"C:\\Users\\raven\\anaconda3\\lib\\site-packages\\sklearn\\model_selection\\_validation.py\", line 767, in _score\n",
      "    scores = scorer(estimator, X_test, y_test)\n",
      "  File \"C:\\Users\\raven\\anaconda3\\lib\\site-packages\\sklearn\\metrics\\_scorer.py\", line 429, in _passthrough_scorer\n",
      "    return estimator.score(*args, **kwargs)\n",
      "  File \"C:\\Users\\raven\\anaconda3\\lib\\site-packages\\sklearn\\base.py\", line 666, in score\n",
      "    return accuracy_score(y, self.predict(X), sample_weight=sample_weight)\n",
      "  File \"C:\\Users\\raven\\anaconda3\\lib\\site-packages\\sklearn\\neighbors\\_classification.py\", line 229, in predict\n",
      "    neigh_dist, neigh_ind = self.kneighbors(X)\n",
      "  File \"C:\\Users\\raven\\anaconda3\\lib\\site-packages\\sklearn\\neighbors\\_base.py\", line 763, in kneighbors\n",
      "    results = PairwiseDistancesArgKmin.compute(\n",
      "  File \"sklearn\\metrics\\_pairwise_distances_reduction.pyx\", line 698, in sklearn.metrics._pairwise_distances_reduction.PairwiseDistancesArgKmin.compute\n",
      "  File \"C:\\Users\\raven\\anaconda3\\lib\\site-packages\\sklearn\\utils\\fixes.py\", line 151, in threadpool_limits\n",
      "    return threadpoolctl.threadpool_limits(limits=limits, user_api=user_api)\n",
      "  File \"C:\\Users\\raven\\anaconda3\\lib\\site-packages\\threadpoolctl.py\", line 171, in __init__\n",
      "    self._original_info = self._set_threadpool_limits()\n",
      "  File \"C:\\Users\\raven\\anaconda3\\lib\\site-packages\\threadpoolctl.py\", line 268, in _set_threadpool_limits\n",
      "    modules = _ThreadpoolInfo(prefixes=self._prefixes,\n",
      "  File \"C:\\Users\\raven\\anaconda3\\lib\\site-packages\\threadpoolctl.py\", line 340, in __init__\n",
      "    self._load_modules()\n",
      "  File \"C:\\Users\\raven\\anaconda3\\lib\\site-packages\\threadpoolctl.py\", line 373, in _load_modules\n",
      "    self._find_modules_with_enum_process_module_ex()\n",
      "  File \"C:\\Users\\raven\\anaconda3\\lib\\site-packages\\threadpoolctl.py\", line 485, in _find_modules_with_enum_process_module_ex\n",
      "    self._make_module_from_path(filepath)\n",
      "  File \"C:\\Users\\raven\\anaconda3\\lib\\site-packages\\threadpoolctl.py\", line 515, in _make_module_from_path\n",
      "    module = module_class(filepath, prefix, user_api, internal_api)\n",
      "  File \"C:\\Users\\raven\\anaconda3\\lib\\site-packages\\threadpoolctl.py\", line 606, in __init__\n",
      "    self.version = self.get_version()\n",
      "  File \"C:\\Users\\raven\\anaconda3\\lib\\site-packages\\threadpoolctl.py\", line 646, in get_version\n",
      "    config = get_config().split()\n",
      "AttributeError: 'NoneType' object has no attribute 'split'\n",
      "\n",
      "  warnings.warn(\n"
     ]
    },
    {
     "name": "stdout",
     "output_type": "stream",
     "text": [
      "[CV 2/5] END .....n_neighbors=3, weights=distance;, score=nan total time=   0.4s\n"
     ]
    },
    {
     "name": "stderr",
     "output_type": "stream",
     "text": [
      "C:\\Users\\raven\\anaconda3\\lib\\site-packages\\sklearn\\model_selection\\_validation.py:776: UserWarning: Scoring failed. The score on this train-test partition for these parameters will be set to nan. Details: \n",
      "Traceback (most recent call last):\n",
      "  File \"C:\\Users\\raven\\anaconda3\\lib\\site-packages\\sklearn\\model_selection\\_validation.py\", line 767, in _score\n",
      "    scores = scorer(estimator, X_test, y_test)\n",
      "  File \"C:\\Users\\raven\\anaconda3\\lib\\site-packages\\sklearn\\metrics\\_scorer.py\", line 429, in _passthrough_scorer\n",
      "    return estimator.score(*args, **kwargs)\n",
      "  File \"C:\\Users\\raven\\anaconda3\\lib\\site-packages\\sklearn\\base.py\", line 666, in score\n",
      "    return accuracy_score(y, self.predict(X), sample_weight=sample_weight)\n",
      "  File \"C:\\Users\\raven\\anaconda3\\lib\\site-packages\\sklearn\\neighbors\\_classification.py\", line 229, in predict\n",
      "    neigh_dist, neigh_ind = self.kneighbors(X)\n",
      "  File \"C:\\Users\\raven\\anaconda3\\lib\\site-packages\\sklearn\\neighbors\\_base.py\", line 763, in kneighbors\n",
      "    results = PairwiseDistancesArgKmin.compute(\n",
      "  File \"sklearn\\metrics\\_pairwise_distances_reduction.pyx\", line 698, in sklearn.metrics._pairwise_distances_reduction.PairwiseDistancesArgKmin.compute\n",
      "  File \"C:\\Users\\raven\\anaconda3\\lib\\site-packages\\sklearn\\utils\\fixes.py\", line 151, in threadpool_limits\n",
      "    return threadpoolctl.threadpool_limits(limits=limits, user_api=user_api)\n",
      "  File \"C:\\Users\\raven\\anaconda3\\lib\\site-packages\\threadpoolctl.py\", line 171, in __init__\n",
      "    self._original_info = self._set_threadpool_limits()\n",
      "  File \"C:\\Users\\raven\\anaconda3\\lib\\site-packages\\threadpoolctl.py\", line 268, in _set_threadpool_limits\n",
      "    modules = _ThreadpoolInfo(prefixes=self._prefixes,\n",
      "  File \"C:\\Users\\raven\\anaconda3\\lib\\site-packages\\threadpoolctl.py\", line 340, in __init__\n",
      "    self._load_modules()\n",
      "  File \"C:\\Users\\raven\\anaconda3\\lib\\site-packages\\threadpoolctl.py\", line 373, in _load_modules\n",
      "    self._find_modules_with_enum_process_module_ex()\n",
      "  File \"C:\\Users\\raven\\anaconda3\\lib\\site-packages\\threadpoolctl.py\", line 485, in _find_modules_with_enum_process_module_ex\n",
      "    self._make_module_from_path(filepath)\n",
      "  File \"C:\\Users\\raven\\anaconda3\\lib\\site-packages\\threadpoolctl.py\", line 515, in _make_module_from_path\n",
      "    module = module_class(filepath, prefix, user_api, internal_api)\n",
      "  File \"C:\\Users\\raven\\anaconda3\\lib\\site-packages\\threadpoolctl.py\", line 606, in __init__\n",
      "    self.version = self.get_version()\n",
      "  File \"C:\\Users\\raven\\anaconda3\\lib\\site-packages\\threadpoolctl.py\", line 646, in get_version\n",
      "    config = get_config().split()\n",
      "AttributeError: 'NoneType' object has no attribute 'split'\n",
      "\n",
      "  warnings.warn(\n"
     ]
    },
    {
     "name": "stdout",
     "output_type": "stream",
     "text": [
      "[CV 3/5] END .....n_neighbors=3, weights=distance;, score=nan total time=   0.4s\n"
     ]
    },
    {
     "name": "stderr",
     "output_type": "stream",
     "text": [
      "C:\\Users\\raven\\anaconda3\\lib\\site-packages\\sklearn\\model_selection\\_validation.py:776: UserWarning: Scoring failed. The score on this train-test partition for these parameters will be set to nan. Details: \n",
      "Traceback (most recent call last):\n",
      "  File \"C:\\Users\\raven\\anaconda3\\lib\\site-packages\\sklearn\\model_selection\\_validation.py\", line 767, in _score\n",
      "    scores = scorer(estimator, X_test, y_test)\n",
      "  File \"C:\\Users\\raven\\anaconda3\\lib\\site-packages\\sklearn\\metrics\\_scorer.py\", line 429, in _passthrough_scorer\n",
      "    return estimator.score(*args, **kwargs)\n",
      "  File \"C:\\Users\\raven\\anaconda3\\lib\\site-packages\\sklearn\\base.py\", line 666, in score\n",
      "    return accuracy_score(y, self.predict(X), sample_weight=sample_weight)\n",
      "  File \"C:\\Users\\raven\\anaconda3\\lib\\site-packages\\sklearn\\neighbors\\_classification.py\", line 229, in predict\n",
      "    neigh_dist, neigh_ind = self.kneighbors(X)\n",
      "  File \"C:\\Users\\raven\\anaconda3\\lib\\site-packages\\sklearn\\neighbors\\_base.py\", line 763, in kneighbors\n",
      "    results = PairwiseDistancesArgKmin.compute(\n",
      "  File \"sklearn\\metrics\\_pairwise_distances_reduction.pyx\", line 698, in sklearn.metrics._pairwise_distances_reduction.PairwiseDistancesArgKmin.compute\n",
      "  File \"C:\\Users\\raven\\anaconda3\\lib\\site-packages\\sklearn\\utils\\fixes.py\", line 151, in threadpool_limits\n",
      "    return threadpoolctl.threadpool_limits(limits=limits, user_api=user_api)\n",
      "  File \"C:\\Users\\raven\\anaconda3\\lib\\site-packages\\threadpoolctl.py\", line 171, in __init__\n",
      "    self._original_info = self._set_threadpool_limits()\n",
      "  File \"C:\\Users\\raven\\anaconda3\\lib\\site-packages\\threadpoolctl.py\", line 268, in _set_threadpool_limits\n",
      "    modules = _ThreadpoolInfo(prefixes=self._prefixes,\n",
      "  File \"C:\\Users\\raven\\anaconda3\\lib\\site-packages\\threadpoolctl.py\", line 340, in __init__\n",
      "    self._load_modules()\n",
      "  File \"C:\\Users\\raven\\anaconda3\\lib\\site-packages\\threadpoolctl.py\", line 373, in _load_modules\n",
      "    self._find_modules_with_enum_process_module_ex()\n",
      "  File \"C:\\Users\\raven\\anaconda3\\lib\\site-packages\\threadpoolctl.py\", line 485, in _find_modules_with_enum_process_module_ex\n",
      "    self._make_module_from_path(filepath)\n",
      "  File \"C:\\Users\\raven\\anaconda3\\lib\\site-packages\\threadpoolctl.py\", line 515, in _make_module_from_path\n",
      "    module = module_class(filepath, prefix, user_api, internal_api)\n",
      "  File \"C:\\Users\\raven\\anaconda3\\lib\\site-packages\\threadpoolctl.py\", line 606, in __init__\n",
      "    self.version = self.get_version()\n",
      "  File \"C:\\Users\\raven\\anaconda3\\lib\\site-packages\\threadpoolctl.py\", line 646, in get_version\n",
      "    config = get_config().split()\n",
      "AttributeError: 'NoneType' object has no attribute 'split'\n",
      "\n",
      "  warnings.warn(\n"
     ]
    },
    {
     "name": "stdout",
     "output_type": "stream",
     "text": [
      "[CV 4/5] END .....n_neighbors=3, weights=distance;, score=nan total time=   0.3s\n"
     ]
    },
    {
     "name": "stderr",
     "output_type": "stream",
     "text": [
      "C:\\Users\\raven\\anaconda3\\lib\\site-packages\\sklearn\\model_selection\\_validation.py:776: UserWarning: Scoring failed. The score on this train-test partition for these parameters will be set to nan. Details: \n",
      "Traceback (most recent call last):\n",
      "  File \"C:\\Users\\raven\\anaconda3\\lib\\site-packages\\sklearn\\model_selection\\_validation.py\", line 767, in _score\n",
      "    scores = scorer(estimator, X_test, y_test)\n",
      "  File \"C:\\Users\\raven\\anaconda3\\lib\\site-packages\\sklearn\\metrics\\_scorer.py\", line 429, in _passthrough_scorer\n",
      "    return estimator.score(*args, **kwargs)\n",
      "  File \"C:\\Users\\raven\\anaconda3\\lib\\site-packages\\sklearn\\base.py\", line 666, in score\n",
      "    return accuracy_score(y, self.predict(X), sample_weight=sample_weight)\n",
      "  File \"C:\\Users\\raven\\anaconda3\\lib\\site-packages\\sklearn\\neighbors\\_classification.py\", line 229, in predict\n",
      "    neigh_dist, neigh_ind = self.kneighbors(X)\n",
      "  File \"C:\\Users\\raven\\anaconda3\\lib\\site-packages\\sklearn\\neighbors\\_base.py\", line 763, in kneighbors\n",
      "    results = PairwiseDistancesArgKmin.compute(\n",
      "  File \"sklearn\\metrics\\_pairwise_distances_reduction.pyx\", line 698, in sklearn.metrics._pairwise_distances_reduction.PairwiseDistancesArgKmin.compute\n",
      "  File \"C:\\Users\\raven\\anaconda3\\lib\\site-packages\\sklearn\\utils\\fixes.py\", line 151, in threadpool_limits\n",
      "    return threadpoolctl.threadpool_limits(limits=limits, user_api=user_api)\n",
      "  File \"C:\\Users\\raven\\anaconda3\\lib\\site-packages\\threadpoolctl.py\", line 171, in __init__\n",
      "    self._original_info = self._set_threadpool_limits()\n",
      "  File \"C:\\Users\\raven\\anaconda3\\lib\\site-packages\\threadpoolctl.py\", line 268, in _set_threadpool_limits\n",
      "    modules = _ThreadpoolInfo(prefixes=self._prefixes,\n",
      "  File \"C:\\Users\\raven\\anaconda3\\lib\\site-packages\\threadpoolctl.py\", line 340, in __init__\n",
      "    self._load_modules()\n",
      "  File \"C:\\Users\\raven\\anaconda3\\lib\\site-packages\\threadpoolctl.py\", line 373, in _load_modules\n",
      "    self._find_modules_with_enum_process_module_ex()\n",
      "  File \"C:\\Users\\raven\\anaconda3\\lib\\site-packages\\threadpoolctl.py\", line 485, in _find_modules_with_enum_process_module_ex\n",
      "    self._make_module_from_path(filepath)\n",
      "  File \"C:\\Users\\raven\\anaconda3\\lib\\site-packages\\threadpoolctl.py\", line 515, in _make_module_from_path\n",
      "    module = module_class(filepath, prefix, user_api, internal_api)\n",
      "  File \"C:\\Users\\raven\\anaconda3\\lib\\site-packages\\threadpoolctl.py\", line 606, in __init__\n",
      "    self.version = self.get_version()\n",
      "  File \"C:\\Users\\raven\\anaconda3\\lib\\site-packages\\threadpoolctl.py\", line 646, in get_version\n",
      "    config = get_config().split()\n",
      "AttributeError: 'NoneType' object has no attribute 'split'\n",
      "\n",
      "  warnings.warn(\n"
     ]
    },
    {
     "name": "stdout",
     "output_type": "stream",
     "text": [
      "[CV 5/5] END .....n_neighbors=3, weights=distance;, score=nan total time=   0.3s\n"
     ]
    },
    {
     "name": "stderr",
     "output_type": "stream",
     "text": [
      "C:\\Users\\raven\\anaconda3\\lib\\site-packages\\sklearn\\model_selection\\_validation.py:776: UserWarning: Scoring failed. The score on this train-test partition for these parameters will be set to nan. Details: \n",
      "Traceback (most recent call last):\n",
      "  File \"C:\\Users\\raven\\anaconda3\\lib\\site-packages\\sklearn\\model_selection\\_validation.py\", line 767, in _score\n",
      "    scores = scorer(estimator, X_test, y_test)\n",
      "  File \"C:\\Users\\raven\\anaconda3\\lib\\site-packages\\sklearn\\metrics\\_scorer.py\", line 429, in _passthrough_scorer\n",
      "    return estimator.score(*args, **kwargs)\n",
      "  File \"C:\\Users\\raven\\anaconda3\\lib\\site-packages\\sklearn\\base.py\", line 666, in score\n",
      "    return accuracy_score(y, self.predict(X), sample_weight=sample_weight)\n",
      "  File \"C:\\Users\\raven\\anaconda3\\lib\\site-packages\\sklearn\\neighbors\\_classification.py\", line 226, in predict\n",
      "    neigh_ind = self.kneighbors(X, return_distance=False)\n",
      "  File \"C:\\Users\\raven\\anaconda3\\lib\\site-packages\\sklearn\\neighbors\\_base.py\", line 763, in kneighbors\n",
      "    results = PairwiseDistancesArgKmin.compute(\n",
      "  File \"sklearn\\metrics\\_pairwise_distances_reduction.pyx\", line 698, in sklearn.metrics._pairwise_distances_reduction.PairwiseDistancesArgKmin.compute\n",
      "  File \"C:\\Users\\raven\\anaconda3\\lib\\site-packages\\sklearn\\utils\\fixes.py\", line 151, in threadpool_limits\n",
      "    return threadpoolctl.threadpool_limits(limits=limits, user_api=user_api)\n",
      "  File \"C:\\Users\\raven\\anaconda3\\lib\\site-packages\\threadpoolctl.py\", line 171, in __init__\n",
      "    self._original_info = self._set_threadpool_limits()\n",
      "  File \"C:\\Users\\raven\\anaconda3\\lib\\site-packages\\threadpoolctl.py\", line 268, in _set_threadpool_limits\n",
      "    modules = _ThreadpoolInfo(prefixes=self._prefixes,\n",
      "  File \"C:\\Users\\raven\\anaconda3\\lib\\site-packages\\threadpoolctl.py\", line 340, in __init__\n",
      "    self._load_modules()\n",
      "  File \"C:\\Users\\raven\\anaconda3\\lib\\site-packages\\threadpoolctl.py\", line 373, in _load_modules\n",
      "    self._find_modules_with_enum_process_module_ex()\n",
      "  File \"C:\\Users\\raven\\anaconda3\\lib\\site-packages\\threadpoolctl.py\", line 485, in _find_modules_with_enum_process_module_ex\n",
      "    self._make_module_from_path(filepath)\n",
      "  File \"C:\\Users\\raven\\anaconda3\\lib\\site-packages\\threadpoolctl.py\", line 515, in _make_module_from_path\n",
      "    module = module_class(filepath, prefix, user_api, internal_api)\n",
      "  File \"C:\\Users\\raven\\anaconda3\\lib\\site-packages\\threadpoolctl.py\", line 606, in __init__\n",
      "    self.version = self.get_version()\n",
      "  File \"C:\\Users\\raven\\anaconda3\\lib\\site-packages\\threadpoolctl.py\", line 646, in get_version\n",
      "    config = get_config().split()\n",
      "AttributeError: 'NoneType' object has no attribute 'split'\n",
      "\n",
      "  warnings.warn(\n"
     ]
    },
    {
     "name": "stdout",
     "output_type": "stream",
     "text": [
      "[CV 1/5] END ......n_neighbors=4, weights=uniform;, score=nan total time=   0.3s\n"
     ]
    },
    {
     "name": "stderr",
     "output_type": "stream",
     "text": [
      "C:\\Users\\raven\\anaconda3\\lib\\site-packages\\sklearn\\model_selection\\_validation.py:776: UserWarning: Scoring failed. The score on this train-test partition for these parameters will be set to nan. Details: \n",
      "Traceback (most recent call last):\n",
      "  File \"C:\\Users\\raven\\anaconda3\\lib\\site-packages\\sklearn\\model_selection\\_validation.py\", line 767, in _score\n",
      "    scores = scorer(estimator, X_test, y_test)\n",
      "  File \"C:\\Users\\raven\\anaconda3\\lib\\site-packages\\sklearn\\metrics\\_scorer.py\", line 429, in _passthrough_scorer\n",
      "    return estimator.score(*args, **kwargs)\n",
      "  File \"C:\\Users\\raven\\anaconda3\\lib\\site-packages\\sklearn\\base.py\", line 666, in score\n",
      "    return accuracy_score(y, self.predict(X), sample_weight=sample_weight)\n",
      "  File \"C:\\Users\\raven\\anaconda3\\lib\\site-packages\\sklearn\\neighbors\\_classification.py\", line 226, in predict\n",
      "    neigh_ind = self.kneighbors(X, return_distance=False)\n",
      "  File \"C:\\Users\\raven\\anaconda3\\lib\\site-packages\\sklearn\\neighbors\\_base.py\", line 763, in kneighbors\n",
      "    results = PairwiseDistancesArgKmin.compute(\n",
      "  File \"sklearn\\metrics\\_pairwise_distances_reduction.pyx\", line 698, in sklearn.metrics._pairwise_distances_reduction.PairwiseDistancesArgKmin.compute\n",
      "  File \"C:\\Users\\raven\\anaconda3\\lib\\site-packages\\sklearn\\utils\\fixes.py\", line 151, in threadpool_limits\n",
      "    return threadpoolctl.threadpool_limits(limits=limits, user_api=user_api)\n",
      "  File \"C:\\Users\\raven\\anaconda3\\lib\\site-packages\\threadpoolctl.py\", line 171, in __init__\n",
      "    self._original_info = self._set_threadpool_limits()\n",
      "  File \"C:\\Users\\raven\\anaconda3\\lib\\site-packages\\threadpoolctl.py\", line 268, in _set_threadpool_limits\n",
      "    modules = _ThreadpoolInfo(prefixes=self._prefixes,\n",
      "  File \"C:\\Users\\raven\\anaconda3\\lib\\site-packages\\threadpoolctl.py\", line 340, in __init__\n",
      "    self._load_modules()\n",
      "  File \"C:\\Users\\raven\\anaconda3\\lib\\site-packages\\threadpoolctl.py\", line 373, in _load_modules\n",
      "    self._find_modules_with_enum_process_module_ex()\n",
      "  File \"C:\\Users\\raven\\anaconda3\\lib\\site-packages\\threadpoolctl.py\", line 485, in _find_modules_with_enum_process_module_ex\n",
      "    self._make_module_from_path(filepath)\n",
      "  File \"C:\\Users\\raven\\anaconda3\\lib\\site-packages\\threadpoolctl.py\", line 515, in _make_module_from_path\n",
      "    module = module_class(filepath, prefix, user_api, internal_api)\n",
      "  File \"C:\\Users\\raven\\anaconda3\\lib\\site-packages\\threadpoolctl.py\", line 606, in __init__\n",
      "    self.version = self.get_version()\n",
      "  File \"C:\\Users\\raven\\anaconda3\\lib\\site-packages\\threadpoolctl.py\", line 646, in get_version\n",
      "    config = get_config().split()\n",
      "AttributeError: 'NoneType' object has no attribute 'split'\n",
      "\n",
      "  warnings.warn(\n"
     ]
    },
    {
     "name": "stdout",
     "output_type": "stream",
     "text": [
      "[CV 2/5] END ......n_neighbors=4, weights=uniform;, score=nan total time=   0.3s\n"
     ]
    },
    {
     "name": "stderr",
     "output_type": "stream",
     "text": [
      "C:\\Users\\raven\\anaconda3\\lib\\site-packages\\sklearn\\model_selection\\_validation.py:776: UserWarning: Scoring failed. The score on this train-test partition for these parameters will be set to nan. Details: \n",
      "Traceback (most recent call last):\n",
      "  File \"C:\\Users\\raven\\anaconda3\\lib\\site-packages\\sklearn\\model_selection\\_validation.py\", line 767, in _score\n",
      "    scores = scorer(estimator, X_test, y_test)\n",
      "  File \"C:\\Users\\raven\\anaconda3\\lib\\site-packages\\sklearn\\metrics\\_scorer.py\", line 429, in _passthrough_scorer\n",
      "    return estimator.score(*args, **kwargs)\n",
      "  File \"C:\\Users\\raven\\anaconda3\\lib\\site-packages\\sklearn\\base.py\", line 666, in score\n",
      "    return accuracy_score(y, self.predict(X), sample_weight=sample_weight)\n",
      "  File \"C:\\Users\\raven\\anaconda3\\lib\\site-packages\\sklearn\\neighbors\\_classification.py\", line 226, in predict\n",
      "    neigh_ind = self.kneighbors(X, return_distance=False)\n",
      "  File \"C:\\Users\\raven\\anaconda3\\lib\\site-packages\\sklearn\\neighbors\\_base.py\", line 763, in kneighbors\n",
      "    results = PairwiseDistancesArgKmin.compute(\n",
      "  File \"sklearn\\metrics\\_pairwise_distances_reduction.pyx\", line 698, in sklearn.metrics._pairwise_distances_reduction.PairwiseDistancesArgKmin.compute\n",
      "  File \"C:\\Users\\raven\\anaconda3\\lib\\site-packages\\sklearn\\utils\\fixes.py\", line 151, in threadpool_limits\n",
      "    return threadpoolctl.threadpool_limits(limits=limits, user_api=user_api)\n",
      "  File \"C:\\Users\\raven\\anaconda3\\lib\\site-packages\\threadpoolctl.py\", line 171, in __init__\n",
      "    self._original_info = self._set_threadpool_limits()\n",
      "  File \"C:\\Users\\raven\\anaconda3\\lib\\site-packages\\threadpoolctl.py\", line 268, in _set_threadpool_limits\n",
      "    modules = _ThreadpoolInfo(prefixes=self._prefixes,\n",
      "  File \"C:\\Users\\raven\\anaconda3\\lib\\site-packages\\threadpoolctl.py\", line 340, in __init__\n",
      "    self._load_modules()\n",
      "  File \"C:\\Users\\raven\\anaconda3\\lib\\site-packages\\threadpoolctl.py\", line 373, in _load_modules\n",
      "    self._find_modules_with_enum_process_module_ex()\n",
      "  File \"C:\\Users\\raven\\anaconda3\\lib\\site-packages\\threadpoolctl.py\", line 485, in _find_modules_with_enum_process_module_ex\n",
      "    self._make_module_from_path(filepath)\n",
      "  File \"C:\\Users\\raven\\anaconda3\\lib\\site-packages\\threadpoolctl.py\", line 515, in _make_module_from_path\n",
      "    module = module_class(filepath, prefix, user_api, internal_api)\n",
      "  File \"C:\\Users\\raven\\anaconda3\\lib\\site-packages\\threadpoolctl.py\", line 606, in __init__\n",
      "    self.version = self.get_version()\n",
      "  File \"C:\\Users\\raven\\anaconda3\\lib\\site-packages\\threadpoolctl.py\", line 646, in get_version\n",
      "    config = get_config().split()\n",
      "AttributeError: 'NoneType' object has no attribute 'split'\n",
      "\n",
      "  warnings.warn(\n"
     ]
    },
    {
     "name": "stdout",
     "output_type": "stream",
     "text": [
      "[CV 3/5] END ......n_neighbors=4, weights=uniform;, score=nan total time=   0.3s\n"
     ]
    },
    {
     "name": "stderr",
     "output_type": "stream",
     "text": [
      "C:\\Users\\raven\\anaconda3\\lib\\site-packages\\sklearn\\model_selection\\_validation.py:776: UserWarning: Scoring failed. The score on this train-test partition for these parameters will be set to nan. Details: \n",
      "Traceback (most recent call last):\n",
      "  File \"C:\\Users\\raven\\anaconda3\\lib\\site-packages\\sklearn\\model_selection\\_validation.py\", line 767, in _score\n",
      "    scores = scorer(estimator, X_test, y_test)\n",
      "  File \"C:\\Users\\raven\\anaconda3\\lib\\site-packages\\sklearn\\metrics\\_scorer.py\", line 429, in _passthrough_scorer\n",
      "    return estimator.score(*args, **kwargs)\n",
      "  File \"C:\\Users\\raven\\anaconda3\\lib\\site-packages\\sklearn\\base.py\", line 666, in score\n",
      "    return accuracy_score(y, self.predict(X), sample_weight=sample_weight)\n",
      "  File \"C:\\Users\\raven\\anaconda3\\lib\\site-packages\\sklearn\\neighbors\\_classification.py\", line 226, in predict\n",
      "    neigh_ind = self.kneighbors(X, return_distance=False)\n",
      "  File \"C:\\Users\\raven\\anaconda3\\lib\\site-packages\\sklearn\\neighbors\\_base.py\", line 763, in kneighbors\n",
      "    results = PairwiseDistancesArgKmin.compute(\n",
      "  File \"sklearn\\metrics\\_pairwise_distances_reduction.pyx\", line 698, in sklearn.metrics._pairwise_distances_reduction.PairwiseDistancesArgKmin.compute\n",
      "  File \"C:\\Users\\raven\\anaconda3\\lib\\site-packages\\sklearn\\utils\\fixes.py\", line 151, in threadpool_limits\n",
      "    return threadpoolctl.threadpool_limits(limits=limits, user_api=user_api)\n",
      "  File \"C:\\Users\\raven\\anaconda3\\lib\\site-packages\\threadpoolctl.py\", line 171, in __init__\n",
      "    self._original_info = self._set_threadpool_limits()\n",
      "  File \"C:\\Users\\raven\\anaconda3\\lib\\site-packages\\threadpoolctl.py\", line 268, in _set_threadpool_limits\n",
      "    modules = _ThreadpoolInfo(prefixes=self._prefixes,\n",
      "  File \"C:\\Users\\raven\\anaconda3\\lib\\site-packages\\threadpoolctl.py\", line 340, in __init__\n",
      "    self._load_modules()\n",
      "  File \"C:\\Users\\raven\\anaconda3\\lib\\site-packages\\threadpoolctl.py\", line 373, in _load_modules\n",
      "    self._find_modules_with_enum_process_module_ex()\n",
      "  File \"C:\\Users\\raven\\anaconda3\\lib\\site-packages\\threadpoolctl.py\", line 485, in _find_modules_with_enum_process_module_ex\n",
      "    self._make_module_from_path(filepath)\n",
      "  File \"C:\\Users\\raven\\anaconda3\\lib\\site-packages\\threadpoolctl.py\", line 515, in _make_module_from_path\n",
      "    module = module_class(filepath, prefix, user_api, internal_api)\n",
      "  File \"C:\\Users\\raven\\anaconda3\\lib\\site-packages\\threadpoolctl.py\", line 606, in __init__\n",
      "    self.version = self.get_version()\n",
      "  File \"C:\\Users\\raven\\anaconda3\\lib\\site-packages\\threadpoolctl.py\", line 646, in get_version\n",
      "    config = get_config().split()\n",
      "AttributeError: 'NoneType' object has no attribute 'split'\n",
      "\n",
      "  warnings.warn(\n"
     ]
    },
    {
     "name": "stdout",
     "output_type": "stream",
     "text": [
      "[CV 4/5] END ......n_neighbors=4, weights=uniform;, score=nan total time=   0.3s\n"
     ]
    },
    {
     "name": "stderr",
     "output_type": "stream",
     "text": [
      "C:\\Users\\raven\\anaconda3\\lib\\site-packages\\sklearn\\model_selection\\_validation.py:776: UserWarning: Scoring failed. The score on this train-test partition for these parameters will be set to nan. Details: \n",
      "Traceback (most recent call last):\n",
      "  File \"C:\\Users\\raven\\anaconda3\\lib\\site-packages\\sklearn\\model_selection\\_validation.py\", line 767, in _score\n",
      "    scores = scorer(estimator, X_test, y_test)\n",
      "  File \"C:\\Users\\raven\\anaconda3\\lib\\site-packages\\sklearn\\metrics\\_scorer.py\", line 429, in _passthrough_scorer\n",
      "    return estimator.score(*args, **kwargs)\n",
      "  File \"C:\\Users\\raven\\anaconda3\\lib\\site-packages\\sklearn\\base.py\", line 666, in score\n",
      "    return accuracy_score(y, self.predict(X), sample_weight=sample_weight)\n",
      "  File \"C:\\Users\\raven\\anaconda3\\lib\\site-packages\\sklearn\\neighbors\\_classification.py\", line 226, in predict\n",
      "    neigh_ind = self.kneighbors(X, return_distance=False)\n",
      "  File \"C:\\Users\\raven\\anaconda3\\lib\\site-packages\\sklearn\\neighbors\\_base.py\", line 763, in kneighbors\n",
      "    results = PairwiseDistancesArgKmin.compute(\n",
      "  File \"sklearn\\metrics\\_pairwise_distances_reduction.pyx\", line 698, in sklearn.metrics._pairwise_distances_reduction.PairwiseDistancesArgKmin.compute\n",
      "  File \"C:\\Users\\raven\\anaconda3\\lib\\site-packages\\sklearn\\utils\\fixes.py\", line 151, in threadpool_limits\n",
      "    return threadpoolctl.threadpool_limits(limits=limits, user_api=user_api)\n",
      "  File \"C:\\Users\\raven\\anaconda3\\lib\\site-packages\\threadpoolctl.py\", line 171, in __init__\n",
      "    self._original_info = self._set_threadpool_limits()\n",
      "  File \"C:\\Users\\raven\\anaconda3\\lib\\site-packages\\threadpoolctl.py\", line 268, in _set_threadpool_limits\n",
      "    modules = _ThreadpoolInfo(prefixes=self._prefixes,\n",
      "  File \"C:\\Users\\raven\\anaconda3\\lib\\site-packages\\threadpoolctl.py\", line 340, in __init__\n",
      "    self._load_modules()\n",
      "  File \"C:\\Users\\raven\\anaconda3\\lib\\site-packages\\threadpoolctl.py\", line 373, in _load_modules\n",
      "    self._find_modules_with_enum_process_module_ex()\n",
      "  File \"C:\\Users\\raven\\anaconda3\\lib\\site-packages\\threadpoolctl.py\", line 485, in _find_modules_with_enum_process_module_ex\n",
      "    self._make_module_from_path(filepath)\n",
      "  File \"C:\\Users\\raven\\anaconda3\\lib\\site-packages\\threadpoolctl.py\", line 515, in _make_module_from_path\n",
      "    module = module_class(filepath, prefix, user_api, internal_api)\n",
      "  File \"C:\\Users\\raven\\anaconda3\\lib\\site-packages\\threadpoolctl.py\", line 606, in __init__\n",
      "    self.version = self.get_version()\n",
      "  File \"C:\\Users\\raven\\anaconda3\\lib\\site-packages\\threadpoolctl.py\", line 646, in get_version\n",
      "    config = get_config().split()\n",
      "AttributeError: 'NoneType' object has no attribute 'split'\n",
      "\n",
      "  warnings.warn(\n"
     ]
    },
    {
     "name": "stdout",
     "output_type": "stream",
     "text": [
      "[CV 5/5] END ......n_neighbors=4, weights=uniform;, score=nan total time=   0.3s\n"
     ]
    },
    {
     "name": "stderr",
     "output_type": "stream",
     "text": [
      "C:\\Users\\raven\\anaconda3\\lib\\site-packages\\sklearn\\model_selection\\_validation.py:776: UserWarning: Scoring failed. The score on this train-test partition for these parameters will be set to nan. Details: \n",
      "Traceback (most recent call last):\n",
      "  File \"C:\\Users\\raven\\anaconda3\\lib\\site-packages\\sklearn\\model_selection\\_validation.py\", line 767, in _score\n",
      "    scores = scorer(estimator, X_test, y_test)\n",
      "  File \"C:\\Users\\raven\\anaconda3\\lib\\site-packages\\sklearn\\metrics\\_scorer.py\", line 429, in _passthrough_scorer\n",
      "    return estimator.score(*args, **kwargs)\n",
      "  File \"C:\\Users\\raven\\anaconda3\\lib\\site-packages\\sklearn\\base.py\", line 666, in score\n",
      "    return accuracy_score(y, self.predict(X), sample_weight=sample_weight)\n",
      "  File \"C:\\Users\\raven\\anaconda3\\lib\\site-packages\\sklearn\\neighbors\\_classification.py\", line 229, in predict\n",
      "    neigh_dist, neigh_ind = self.kneighbors(X)\n",
      "  File \"C:\\Users\\raven\\anaconda3\\lib\\site-packages\\sklearn\\neighbors\\_base.py\", line 763, in kneighbors\n",
      "    results = PairwiseDistancesArgKmin.compute(\n",
      "  File \"sklearn\\metrics\\_pairwise_distances_reduction.pyx\", line 698, in sklearn.metrics._pairwise_distances_reduction.PairwiseDistancesArgKmin.compute\n",
      "  File \"C:\\Users\\raven\\anaconda3\\lib\\site-packages\\sklearn\\utils\\fixes.py\", line 151, in threadpool_limits\n",
      "    return threadpoolctl.threadpool_limits(limits=limits, user_api=user_api)\n",
      "  File \"C:\\Users\\raven\\anaconda3\\lib\\site-packages\\threadpoolctl.py\", line 171, in __init__\n",
      "    self._original_info = self._set_threadpool_limits()\n",
      "  File \"C:\\Users\\raven\\anaconda3\\lib\\site-packages\\threadpoolctl.py\", line 268, in _set_threadpool_limits\n",
      "    modules = _ThreadpoolInfo(prefixes=self._prefixes,\n",
      "  File \"C:\\Users\\raven\\anaconda3\\lib\\site-packages\\threadpoolctl.py\", line 340, in __init__\n",
      "    self._load_modules()\n",
      "  File \"C:\\Users\\raven\\anaconda3\\lib\\site-packages\\threadpoolctl.py\", line 373, in _load_modules\n",
      "    self._find_modules_with_enum_process_module_ex()\n",
      "  File \"C:\\Users\\raven\\anaconda3\\lib\\site-packages\\threadpoolctl.py\", line 485, in _find_modules_with_enum_process_module_ex\n",
      "    self._make_module_from_path(filepath)\n",
      "  File \"C:\\Users\\raven\\anaconda3\\lib\\site-packages\\threadpoolctl.py\", line 515, in _make_module_from_path\n",
      "    module = module_class(filepath, prefix, user_api, internal_api)\n",
      "  File \"C:\\Users\\raven\\anaconda3\\lib\\site-packages\\threadpoolctl.py\", line 606, in __init__\n",
      "    self.version = self.get_version()\n",
      "  File \"C:\\Users\\raven\\anaconda3\\lib\\site-packages\\threadpoolctl.py\", line 646, in get_version\n",
      "    config = get_config().split()\n",
      "AttributeError: 'NoneType' object has no attribute 'split'\n",
      "\n",
      "  warnings.warn(\n"
     ]
    },
    {
     "name": "stdout",
     "output_type": "stream",
     "text": [
      "[CV 1/5] END .....n_neighbors=4, weights=distance;, score=nan total time=   0.3s\n"
     ]
    },
    {
     "name": "stderr",
     "output_type": "stream",
     "text": [
      "C:\\Users\\raven\\anaconda3\\lib\\site-packages\\sklearn\\model_selection\\_validation.py:776: UserWarning: Scoring failed. The score on this train-test partition for these parameters will be set to nan. Details: \n",
      "Traceback (most recent call last):\n",
      "  File \"C:\\Users\\raven\\anaconda3\\lib\\site-packages\\sklearn\\model_selection\\_validation.py\", line 767, in _score\n",
      "    scores = scorer(estimator, X_test, y_test)\n",
      "  File \"C:\\Users\\raven\\anaconda3\\lib\\site-packages\\sklearn\\metrics\\_scorer.py\", line 429, in _passthrough_scorer\n",
      "    return estimator.score(*args, **kwargs)\n",
      "  File \"C:\\Users\\raven\\anaconda3\\lib\\site-packages\\sklearn\\base.py\", line 666, in score\n",
      "    return accuracy_score(y, self.predict(X), sample_weight=sample_weight)\n",
      "  File \"C:\\Users\\raven\\anaconda3\\lib\\site-packages\\sklearn\\neighbors\\_classification.py\", line 229, in predict\n",
      "    neigh_dist, neigh_ind = self.kneighbors(X)\n",
      "  File \"C:\\Users\\raven\\anaconda3\\lib\\site-packages\\sklearn\\neighbors\\_base.py\", line 763, in kneighbors\n",
      "    results = PairwiseDistancesArgKmin.compute(\n",
      "  File \"sklearn\\metrics\\_pairwise_distances_reduction.pyx\", line 698, in sklearn.metrics._pairwise_distances_reduction.PairwiseDistancesArgKmin.compute\n",
      "  File \"C:\\Users\\raven\\anaconda3\\lib\\site-packages\\sklearn\\utils\\fixes.py\", line 151, in threadpool_limits\n",
      "    return threadpoolctl.threadpool_limits(limits=limits, user_api=user_api)\n",
      "  File \"C:\\Users\\raven\\anaconda3\\lib\\site-packages\\threadpoolctl.py\", line 171, in __init__\n",
      "    self._original_info = self._set_threadpool_limits()\n",
      "  File \"C:\\Users\\raven\\anaconda3\\lib\\site-packages\\threadpoolctl.py\", line 268, in _set_threadpool_limits\n",
      "    modules = _ThreadpoolInfo(prefixes=self._prefixes,\n",
      "  File \"C:\\Users\\raven\\anaconda3\\lib\\site-packages\\threadpoolctl.py\", line 340, in __init__\n",
      "    self._load_modules()\n",
      "  File \"C:\\Users\\raven\\anaconda3\\lib\\site-packages\\threadpoolctl.py\", line 373, in _load_modules\n",
      "    self._find_modules_with_enum_process_module_ex()\n",
      "  File \"C:\\Users\\raven\\anaconda3\\lib\\site-packages\\threadpoolctl.py\", line 485, in _find_modules_with_enum_process_module_ex\n",
      "    self._make_module_from_path(filepath)\n",
      "  File \"C:\\Users\\raven\\anaconda3\\lib\\site-packages\\threadpoolctl.py\", line 515, in _make_module_from_path\n",
      "    module = module_class(filepath, prefix, user_api, internal_api)\n",
      "  File \"C:\\Users\\raven\\anaconda3\\lib\\site-packages\\threadpoolctl.py\", line 606, in __init__\n",
      "    self.version = self.get_version()\n",
      "  File \"C:\\Users\\raven\\anaconda3\\lib\\site-packages\\threadpoolctl.py\", line 646, in get_version\n",
      "    config = get_config().split()\n",
      "AttributeError: 'NoneType' object has no attribute 'split'\n",
      "\n",
      "  warnings.warn(\n"
     ]
    },
    {
     "name": "stdout",
     "output_type": "stream",
     "text": [
      "[CV 2/5] END .....n_neighbors=4, weights=distance;, score=nan total time=   0.3s\n"
     ]
    },
    {
     "name": "stderr",
     "output_type": "stream",
     "text": [
      "C:\\Users\\raven\\anaconda3\\lib\\site-packages\\sklearn\\model_selection\\_validation.py:776: UserWarning: Scoring failed. The score on this train-test partition for these parameters will be set to nan. Details: \n",
      "Traceback (most recent call last):\n",
      "  File \"C:\\Users\\raven\\anaconda3\\lib\\site-packages\\sklearn\\model_selection\\_validation.py\", line 767, in _score\n",
      "    scores = scorer(estimator, X_test, y_test)\n",
      "  File \"C:\\Users\\raven\\anaconda3\\lib\\site-packages\\sklearn\\metrics\\_scorer.py\", line 429, in _passthrough_scorer\n",
      "    return estimator.score(*args, **kwargs)\n",
      "  File \"C:\\Users\\raven\\anaconda3\\lib\\site-packages\\sklearn\\base.py\", line 666, in score\n",
      "    return accuracy_score(y, self.predict(X), sample_weight=sample_weight)\n",
      "  File \"C:\\Users\\raven\\anaconda3\\lib\\site-packages\\sklearn\\neighbors\\_classification.py\", line 229, in predict\n",
      "    neigh_dist, neigh_ind = self.kneighbors(X)\n",
      "  File \"C:\\Users\\raven\\anaconda3\\lib\\site-packages\\sklearn\\neighbors\\_base.py\", line 763, in kneighbors\n",
      "    results = PairwiseDistancesArgKmin.compute(\n",
      "  File \"sklearn\\metrics\\_pairwise_distances_reduction.pyx\", line 698, in sklearn.metrics._pairwise_distances_reduction.PairwiseDistancesArgKmin.compute\n",
      "  File \"C:\\Users\\raven\\anaconda3\\lib\\site-packages\\sklearn\\utils\\fixes.py\", line 151, in threadpool_limits\n",
      "    return threadpoolctl.threadpool_limits(limits=limits, user_api=user_api)\n",
      "  File \"C:\\Users\\raven\\anaconda3\\lib\\site-packages\\threadpoolctl.py\", line 171, in __init__\n",
      "    self._original_info = self._set_threadpool_limits()\n",
      "  File \"C:\\Users\\raven\\anaconda3\\lib\\site-packages\\threadpoolctl.py\", line 268, in _set_threadpool_limits\n",
      "    modules = _ThreadpoolInfo(prefixes=self._prefixes,\n",
      "  File \"C:\\Users\\raven\\anaconda3\\lib\\site-packages\\threadpoolctl.py\", line 340, in __init__\n",
      "    self._load_modules()\n",
      "  File \"C:\\Users\\raven\\anaconda3\\lib\\site-packages\\threadpoolctl.py\", line 373, in _load_modules\n",
      "    self._find_modules_with_enum_process_module_ex()\n",
      "  File \"C:\\Users\\raven\\anaconda3\\lib\\site-packages\\threadpoolctl.py\", line 485, in _find_modules_with_enum_process_module_ex\n",
      "    self._make_module_from_path(filepath)\n",
      "  File \"C:\\Users\\raven\\anaconda3\\lib\\site-packages\\threadpoolctl.py\", line 515, in _make_module_from_path\n",
      "    module = module_class(filepath, prefix, user_api, internal_api)\n",
      "  File \"C:\\Users\\raven\\anaconda3\\lib\\site-packages\\threadpoolctl.py\", line 606, in __init__\n",
      "    self.version = self.get_version()\n",
      "  File \"C:\\Users\\raven\\anaconda3\\lib\\site-packages\\threadpoolctl.py\", line 646, in get_version\n",
      "    config = get_config().split()\n",
      "AttributeError: 'NoneType' object has no attribute 'split'\n",
      "\n",
      "  warnings.warn(\n"
     ]
    },
    {
     "name": "stdout",
     "output_type": "stream",
     "text": [
      "[CV 3/5] END .....n_neighbors=4, weights=distance;, score=nan total time=   0.3s\n"
     ]
    },
    {
     "name": "stderr",
     "output_type": "stream",
     "text": [
      "C:\\Users\\raven\\anaconda3\\lib\\site-packages\\sklearn\\model_selection\\_validation.py:776: UserWarning: Scoring failed. The score on this train-test partition for these parameters will be set to nan. Details: \n",
      "Traceback (most recent call last):\n",
      "  File \"C:\\Users\\raven\\anaconda3\\lib\\site-packages\\sklearn\\model_selection\\_validation.py\", line 767, in _score\n",
      "    scores = scorer(estimator, X_test, y_test)\n",
      "  File \"C:\\Users\\raven\\anaconda3\\lib\\site-packages\\sklearn\\metrics\\_scorer.py\", line 429, in _passthrough_scorer\n",
      "    return estimator.score(*args, **kwargs)\n",
      "  File \"C:\\Users\\raven\\anaconda3\\lib\\site-packages\\sklearn\\base.py\", line 666, in score\n",
      "    return accuracy_score(y, self.predict(X), sample_weight=sample_weight)\n",
      "  File \"C:\\Users\\raven\\anaconda3\\lib\\site-packages\\sklearn\\neighbors\\_classification.py\", line 229, in predict\n",
      "    neigh_dist, neigh_ind = self.kneighbors(X)\n",
      "  File \"C:\\Users\\raven\\anaconda3\\lib\\site-packages\\sklearn\\neighbors\\_base.py\", line 763, in kneighbors\n",
      "    results = PairwiseDistancesArgKmin.compute(\n",
      "  File \"sklearn\\metrics\\_pairwise_distances_reduction.pyx\", line 698, in sklearn.metrics._pairwise_distances_reduction.PairwiseDistancesArgKmin.compute\n",
      "  File \"C:\\Users\\raven\\anaconda3\\lib\\site-packages\\sklearn\\utils\\fixes.py\", line 151, in threadpool_limits\n",
      "    return threadpoolctl.threadpool_limits(limits=limits, user_api=user_api)\n",
      "  File \"C:\\Users\\raven\\anaconda3\\lib\\site-packages\\threadpoolctl.py\", line 171, in __init__\n",
      "    self._original_info = self._set_threadpool_limits()\n",
      "  File \"C:\\Users\\raven\\anaconda3\\lib\\site-packages\\threadpoolctl.py\", line 268, in _set_threadpool_limits\n",
      "    modules = _ThreadpoolInfo(prefixes=self._prefixes,\n",
      "  File \"C:\\Users\\raven\\anaconda3\\lib\\site-packages\\threadpoolctl.py\", line 340, in __init__\n",
      "    self._load_modules()\n",
      "  File \"C:\\Users\\raven\\anaconda3\\lib\\site-packages\\threadpoolctl.py\", line 373, in _load_modules\n",
      "    self._find_modules_with_enum_process_module_ex()\n",
      "  File \"C:\\Users\\raven\\anaconda3\\lib\\site-packages\\threadpoolctl.py\", line 485, in _find_modules_with_enum_process_module_ex\n",
      "    self._make_module_from_path(filepath)\n",
      "  File \"C:\\Users\\raven\\anaconda3\\lib\\site-packages\\threadpoolctl.py\", line 515, in _make_module_from_path\n",
      "    module = module_class(filepath, prefix, user_api, internal_api)\n",
      "  File \"C:\\Users\\raven\\anaconda3\\lib\\site-packages\\threadpoolctl.py\", line 606, in __init__\n",
      "    self.version = self.get_version()\n",
      "  File \"C:\\Users\\raven\\anaconda3\\lib\\site-packages\\threadpoolctl.py\", line 646, in get_version\n",
      "    config = get_config().split()\n",
      "AttributeError: 'NoneType' object has no attribute 'split'\n",
      "\n",
      "  warnings.warn(\n"
     ]
    },
    {
     "name": "stdout",
     "output_type": "stream",
     "text": [
      "[CV 4/5] END .....n_neighbors=4, weights=distance;, score=nan total time=   0.3s\n"
     ]
    },
    {
     "name": "stderr",
     "output_type": "stream",
     "text": [
      "C:\\Users\\raven\\anaconda3\\lib\\site-packages\\sklearn\\model_selection\\_validation.py:776: UserWarning: Scoring failed. The score on this train-test partition for these parameters will be set to nan. Details: \n",
      "Traceback (most recent call last):\n",
      "  File \"C:\\Users\\raven\\anaconda3\\lib\\site-packages\\sklearn\\model_selection\\_validation.py\", line 767, in _score\n",
      "    scores = scorer(estimator, X_test, y_test)\n",
      "  File \"C:\\Users\\raven\\anaconda3\\lib\\site-packages\\sklearn\\metrics\\_scorer.py\", line 429, in _passthrough_scorer\n",
      "    return estimator.score(*args, **kwargs)\n",
      "  File \"C:\\Users\\raven\\anaconda3\\lib\\site-packages\\sklearn\\base.py\", line 666, in score\n",
      "    return accuracy_score(y, self.predict(X), sample_weight=sample_weight)\n",
      "  File \"C:\\Users\\raven\\anaconda3\\lib\\site-packages\\sklearn\\neighbors\\_classification.py\", line 229, in predict\n",
      "    neigh_dist, neigh_ind = self.kneighbors(X)\n",
      "  File \"C:\\Users\\raven\\anaconda3\\lib\\site-packages\\sklearn\\neighbors\\_base.py\", line 763, in kneighbors\n",
      "    results = PairwiseDistancesArgKmin.compute(\n",
      "  File \"sklearn\\metrics\\_pairwise_distances_reduction.pyx\", line 698, in sklearn.metrics._pairwise_distances_reduction.PairwiseDistancesArgKmin.compute\n",
      "  File \"C:\\Users\\raven\\anaconda3\\lib\\site-packages\\sklearn\\utils\\fixes.py\", line 151, in threadpool_limits\n",
      "    return threadpoolctl.threadpool_limits(limits=limits, user_api=user_api)\n",
      "  File \"C:\\Users\\raven\\anaconda3\\lib\\site-packages\\threadpoolctl.py\", line 171, in __init__\n",
      "    self._original_info = self._set_threadpool_limits()\n",
      "  File \"C:\\Users\\raven\\anaconda3\\lib\\site-packages\\threadpoolctl.py\", line 268, in _set_threadpool_limits\n",
      "    modules = _ThreadpoolInfo(prefixes=self._prefixes,\n",
      "  File \"C:\\Users\\raven\\anaconda3\\lib\\site-packages\\threadpoolctl.py\", line 340, in __init__\n",
      "    self._load_modules()\n",
      "  File \"C:\\Users\\raven\\anaconda3\\lib\\site-packages\\threadpoolctl.py\", line 373, in _load_modules\n",
      "    self._find_modules_with_enum_process_module_ex()\n",
      "  File \"C:\\Users\\raven\\anaconda3\\lib\\site-packages\\threadpoolctl.py\", line 485, in _find_modules_with_enum_process_module_ex\n",
      "    self._make_module_from_path(filepath)\n",
      "  File \"C:\\Users\\raven\\anaconda3\\lib\\site-packages\\threadpoolctl.py\", line 515, in _make_module_from_path\n",
      "    module = module_class(filepath, prefix, user_api, internal_api)\n",
      "  File \"C:\\Users\\raven\\anaconda3\\lib\\site-packages\\threadpoolctl.py\", line 606, in __init__\n",
      "    self.version = self.get_version()\n",
      "  File \"C:\\Users\\raven\\anaconda3\\lib\\site-packages\\threadpoolctl.py\", line 646, in get_version\n",
      "    config = get_config().split()\n",
      "AttributeError: 'NoneType' object has no attribute 'split'\n",
      "\n",
      "  warnings.warn(\n"
     ]
    },
    {
     "name": "stdout",
     "output_type": "stream",
     "text": [
      "[CV 5/5] END .....n_neighbors=4, weights=distance;, score=nan total time=   0.3s\n"
     ]
    },
    {
     "name": "stderr",
     "output_type": "stream",
     "text": [
      "C:\\Users\\raven\\anaconda3\\lib\\site-packages\\sklearn\\model_selection\\_validation.py:776: UserWarning: Scoring failed. The score on this train-test partition for these parameters will be set to nan. Details: \n",
      "Traceback (most recent call last):\n",
      "  File \"C:\\Users\\raven\\anaconda3\\lib\\site-packages\\sklearn\\model_selection\\_validation.py\", line 767, in _score\n",
      "    scores = scorer(estimator, X_test, y_test)\n",
      "  File \"C:\\Users\\raven\\anaconda3\\lib\\site-packages\\sklearn\\metrics\\_scorer.py\", line 429, in _passthrough_scorer\n",
      "    return estimator.score(*args, **kwargs)\n",
      "  File \"C:\\Users\\raven\\anaconda3\\lib\\site-packages\\sklearn\\base.py\", line 666, in score\n",
      "    return accuracy_score(y, self.predict(X), sample_weight=sample_weight)\n",
      "  File \"C:\\Users\\raven\\anaconda3\\lib\\site-packages\\sklearn\\neighbors\\_classification.py\", line 226, in predict\n",
      "    neigh_ind = self.kneighbors(X, return_distance=False)\n",
      "  File \"C:\\Users\\raven\\anaconda3\\lib\\site-packages\\sklearn\\neighbors\\_base.py\", line 763, in kneighbors\n",
      "    results = PairwiseDistancesArgKmin.compute(\n",
      "  File \"sklearn\\metrics\\_pairwise_distances_reduction.pyx\", line 698, in sklearn.metrics._pairwise_distances_reduction.PairwiseDistancesArgKmin.compute\n",
      "  File \"C:\\Users\\raven\\anaconda3\\lib\\site-packages\\sklearn\\utils\\fixes.py\", line 151, in threadpool_limits\n",
      "    return threadpoolctl.threadpool_limits(limits=limits, user_api=user_api)\n",
      "  File \"C:\\Users\\raven\\anaconda3\\lib\\site-packages\\threadpoolctl.py\", line 171, in __init__\n",
      "    self._original_info = self._set_threadpool_limits()\n",
      "  File \"C:\\Users\\raven\\anaconda3\\lib\\site-packages\\threadpoolctl.py\", line 268, in _set_threadpool_limits\n",
      "    modules = _ThreadpoolInfo(prefixes=self._prefixes,\n",
      "  File \"C:\\Users\\raven\\anaconda3\\lib\\site-packages\\threadpoolctl.py\", line 340, in __init__\n",
      "    self._load_modules()\n",
      "  File \"C:\\Users\\raven\\anaconda3\\lib\\site-packages\\threadpoolctl.py\", line 373, in _load_modules\n",
      "    self._find_modules_with_enum_process_module_ex()\n",
      "  File \"C:\\Users\\raven\\anaconda3\\lib\\site-packages\\threadpoolctl.py\", line 485, in _find_modules_with_enum_process_module_ex\n",
      "    self._make_module_from_path(filepath)\n",
      "  File \"C:\\Users\\raven\\anaconda3\\lib\\site-packages\\threadpoolctl.py\", line 515, in _make_module_from_path\n",
      "    module = module_class(filepath, prefix, user_api, internal_api)\n",
      "  File \"C:\\Users\\raven\\anaconda3\\lib\\site-packages\\threadpoolctl.py\", line 606, in __init__\n",
      "    self.version = self.get_version()\n",
      "  File \"C:\\Users\\raven\\anaconda3\\lib\\site-packages\\threadpoolctl.py\", line 646, in get_version\n",
      "    config = get_config().split()\n",
      "AttributeError: 'NoneType' object has no attribute 'split'\n",
      "\n",
      "  warnings.warn(\n"
     ]
    },
    {
     "name": "stdout",
     "output_type": "stream",
     "text": [
      "[CV 1/5] END ......n_neighbors=5, weights=uniform;, score=nan total time=   0.4s\n"
     ]
    },
    {
     "name": "stderr",
     "output_type": "stream",
     "text": [
      "C:\\Users\\raven\\anaconda3\\lib\\site-packages\\sklearn\\model_selection\\_validation.py:776: UserWarning: Scoring failed. The score on this train-test partition for these parameters will be set to nan. Details: \n",
      "Traceback (most recent call last):\n",
      "  File \"C:\\Users\\raven\\anaconda3\\lib\\site-packages\\sklearn\\model_selection\\_validation.py\", line 767, in _score\n",
      "    scores = scorer(estimator, X_test, y_test)\n",
      "  File \"C:\\Users\\raven\\anaconda3\\lib\\site-packages\\sklearn\\metrics\\_scorer.py\", line 429, in _passthrough_scorer\n",
      "    return estimator.score(*args, **kwargs)\n",
      "  File \"C:\\Users\\raven\\anaconda3\\lib\\site-packages\\sklearn\\base.py\", line 666, in score\n",
      "    return accuracy_score(y, self.predict(X), sample_weight=sample_weight)\n",
      "  File \"C:\\Users\\raven\\anaconda3\\lib\\site-packages\\sklearn\\neighbors\\_classification.py\", line 226, in predict\n",
      "    neigh_ind = self.kneighbors(X, return_distance=False)\n",
      "  File \"C:\\Users\\raven\\anaconda3\\lib\\site-packages\\sklearn\\neighbors\\_base.py\", line 763, in kneighbors\n",
      "    results = PairwiseDistancesArgKmin.compute(\n",
      "  File \"sklearn\\metrics\\_pairwise_distances_reduction.pyx\", line 698, in sklearn.metrics._pairwise_distances_reduction.PairwiseDistancesArgKmin.compute\n",
      "  File \"C:\\Users\\raven\\anaconda3\\lib\\site-packages\\sklearn\\utils\\fixes.py\", line 151, in threadpool_limits\n",
      "    return threadpoolctl.threadpool_limits(limits=limits, user_api=user_api)\n",
      "  File \"C:\\Users\\raven\\anaconda3\\lib\\site-packages\\threadpoolctl.py\", line 171, in __init__\n",
      "    self._original_info = self._set_threadpool_limits()\n",
      "  File \"C:\\Users\\raven\\anaconda3\\lib\\site-packages\\threadpoolctl.py\", line 268, in _set_threadpool_limits\n",
      "    modules = _ThreadpoolInfo(prefixes=self._prefixes,\n",
      "  File \"C:\\Users\\raven\\anaconda3\\lib\\site-packages\\threadpoolctl.py\", line 340, in __init__\n",
      "    self._load_modules()\n",
      "  File \"C:\\Users\\raven\\anaconda3\\lib\\site-packages\\threadpoolctl.py\", line 373, in _load_modules\n",
      "    self._find_modules_with_enum_process_module_ex()\n",
      "  File \"C:\\Users\\raven\\anaconda3\\lib\\site-packages\\threadpoolctl.py\", line 485, in _find_modules_with_enum_process_module_ex\n",
      "    self._make_module_from_path(filepath)\n",
      "  File \"C:\\Users\\raven\\anaconda3\\lib\\site-packages\\threadpoolctl.py\", line 515, in _make_module_from_path\n",
      "    module = module_class(filepath, prefix, user_api, internal_api)\n",
      "  File \"C:\\Users\\raven\\anaconda3\\lib\\site-packages\\threadpoolctl.py\", line 606, in __init__\n",
      "    self.version = self.get_version()\n",
      "  File \"C:\\Users\\raven\\anaconda3\\lib\\site-packages\\threadpoolctl.py\", line 646, in get_version\n",
      "    config = get_config().split()\n",
      "AttributeError: 'NoneType' object has no attribute 'split'\n",
      "\n",
      "  warnings.warn(\n"
     ]
    },
    {
     "name": "stdout",
     "output_type": "stream",
     "text": [
      "[CV 2/5] END ......n_neighbors=5, weights=uniform;, score=nan total time=   0.4s\n"
     ]
    },
    {
     "name": "stderr",
     "output_type": "stream",
     "text": [
      "C:\\Users\\raven\\anaconda3\\lib\\site-packages\\sklearn\\model_selection\\_validation.py:776: UserWarning: Scoring failed. The score on this train-test partition for these parameters will be set to nan. Details: \n",
      "Traceback (most recent call last):\n",
      "  File \"C:\\Users\\raven\\anaconda3\\lib\\site-packages\\sklearn\\model_selection\\_validation.py\", line 767, in _score\n",
      "    scores = scorer(estimator, X_test, y_test)\n",
      "  File \"C:\\Users\\raven\\anaconda3\\lib\\site-packages\\sklearn\\metrics\\_scorer.py\", line 429, in _passthrough_scorer\n",
      "    return estimator.score(*args, **kwargs)\n",
      "  File \"C:\\Users\\raven\\anaconda3\\lib\\site-packages\\sklearn\\base.py\", line 666, in score\n",
      "    return accuracy_score(y, self.predict(X), sample_weight=sample_weight)\n",
      "  File \"C:\\Users\\raven\\anaconda3\\lib\\site-packages\\sklearn\\neighbors\\_classification.py\", line 226, in predict\n",
      "    neigh_ind = self.kneighbors(X, return_distance=False)\n",
      "  File \"C:\\Users\\raven\\anaconda3\\lib\\site-packages\\sklearn\\neighbors\\_base.py\", line 763, in kneighbors\n",
      "    results = PairwiseDistancesArgKmin.compute(\n",
      "  File \"sklearn\\metrics\\_pairwise_distances_reduction.pyx\", line 698, in sklearn.metrics._pairwise_distances_reduction.PairwiseDistancesArgKmin.compute\n",
      "  File \"C:\\Users\\raven\\anaconda3\\lib\\site-packages\\sklearn\\utils\\fixes.py\", line 151, in threadpool_limits\n",
      "    return threadpoolctl.threadpool_limits(limits=limits, user_api=user_api)\n",
      "  File \"C:\\Users\\raven\\anaconda3\\lib\\site-packages\\threadpoolctl.py\", line 171, in __init__\n",
      "    self._original_info = self._set_threadpool_limits()\n",
      "  File \"C:\\Users\\raven\\anaconda3\\lib\\site-packages\\threadpoolctl.py\", line 268, in _set_threadpool_limits\n",
      "    modules = _ThreadpoolInfo(prefixes=self._prefixes,\n",
      "  File \"C:\\Users\\raven\\anaconda3\\lib\\site-packages\\threadpoolctl.py\", line 340, in __init__\n",
      "    self._load_modules()\n",
      "  File \"C:\\Users\\raven\\anaconda3\\lib\\site-packages\\threadpoolctl.py\", line 373, in _load_modules\n",
      "    self._find_modules_with_enum_process_module_ex()\n",
      "  File \"C:\\Users\\raven\\anaconda3\\lib\\site-packages\\threadpoolctl.py\", line 485, in _find_modules_with_enum_process_module_ex\n",
      "    self._make_module_from_path(filepath)\n",
      "  File \"C:\\Users\\raven\\anaconda3\\lib\\site-packages\\threadpoolctl.py\", line 515, in _make_module_from_path\n",
      "    module = module_class(filepath, prefix, user_api, internal_api)\n",
      "  File \"C:\\Users\\raven\\anaconda3\\lib\\site-packages\\threadpoolctl.py\", line 606, in __init__\n",
      "    self.version = self.get_version()\n",
      "  File \"C:\\Users\\raven\\anaconda3\\lib\\site-packages\\threadpoolctl.py\", line 646, in get_version\n",
      "    config = get_config().split()\n",
      "AttributeError: 'NoneType' object has no attribute 'split'\n",
      "\n",
      "  warnings.warn(\n"
     ]
    },
    {
     "name": "stdout",
     "output_type": "stream",
     "text": [
      "[CV 3/5] END ......n_neighbors=5, weights=uniform;, score=nan total time=   0.4s\n"
     ]
    },
    {
     "name": "stderr",
     "output_type": "stream",
     "text": [
      "C:\\Users\\raven\\anaconda3\\lib\\site-packages\\sklearn\\model_selection\\_validation.py:776: UserWarning: Scoring failed. The score on this train-test partition for these parameters will be set to nan. Details: \n",
      "Traceback (most recent call last):\n",
      "  File \"C:\\Users\\raven\\anaconda3\\lib\\site-packages\\sklearn\\model_selection\\_validation.py\", line 767, in _score\n",
      "    scores = scorer(estimator, X_test, y_test)\n",
      "  File \"C:\\Users\\raven\\anaconda3\\lib\\site-packages\\sklearn\\metrics\\_scorer.py\", line 429, in _passthrough_scorer\n",
      "    return estimator.score(*args, **kwargs)\n",
      "  File \"C:\\Users\\raven\\anaconda3\\lib\\site-packages\\sklearn\\base.py\", line 666, in score\n",
      "    return accuracy_score(y, self.predict(X), sample_weight=sample_weight)\n",
      "  File \"C:\\Users\\raven\\anaconda3\\lib\\site-packages\\sklearn\\neighbors\\_classification.py\", line 226, in predict\n",
      "    neigh_ind = self.kneighbors(X, return_distance=False)\n",
      "  File \"C:\\Users\\raven\\anaconda3\\lib\\site-packages\\sklearn\\neighbors\\_base.py\", line 763, in kneighbors\n",
      "    results = PairwiseDistancesArgKmin.compute(\n",
      "  File \"sklearn\\metrics\\_pairwise_distances_reduction.pyx\", line 698, in sklearn.metrics._pairwise_distances_reduction.PairwiseDistancesArgKmin.compute\n",
      "  File \"C:\\Users\\raven\\anaconda3\\lib\\site-packages\\sklearn\\utils\\fixes.py\", line 151, in threadpool_limits\n",
      "    return threadpoolctl.threadpool_limits(limits=limits, user_api=user_api)\n",
      "  File \"C:\\Users\\raven\\anaconda3\\lib\\site-packages\\threadpoolctl.py\", line 171, in __init__\n",
      "    self._original_info = self._set_threadpool_limits()\n",
      "  File \"C:\\Users\\raven\\anaconda3\\lib\\site-packages\\threadpoolctl.py\", line 268, in _set_threadpool_limits\n",
      "    modules = _ThreadpoolInfo(prefixes=self._prefixes,\n",
      "  File \"C:\\Users\\raven\\anaconda3\\lib\\site-packages\\threadpoolctl.py\", line 340, in __init__\n",
      "    self._load_modules()\n",
      "  File \"C:\\Users\\raven\\anaconda3\\lib\\site-packages\\threadpoolctl.py\", line 373, in _load_modules\n",
      "    self._find_modules_with_enum_process_module_ex()\n",
      "  File \"C:\\Users\\raven\\anaconda3\\lib\\site-packages\\threadpoolctl.py\", line 485, in _find_modules_with_enum_process_module_ex\n",
      "    self._make_module_from_path(filepath)\n",
      "  File \"C:\\Users\\raven\\anaconda3\\lib\\site-packages\\threadpoolctl.py\", line 515, in _make_module_from_path\n",
      "    module = module_class(filepath, prefix, user_api, internal_api)\n",
      "  File \"C:\\Users\\raven\\anaconda3\\lib\\site-packages\\threadpoolctl.py\", line 606, in __init__\n",
      "    self.version = self.get_version()\n",
      "  File \"C:\\Users\\raven\\anaconda3\\lib\\site-packages\\threadpoolctl.py\", line 646, in get_version\n",
      "    config = get_config().split()\n",
      "AttributeError: 'NoneType' object has no attribute 'split'\n",
      "\n",
      "  warnings.warn(\n"
     ]
    },
    {
     "name": "stdout",
     "output_type": "stream",
     "text": [
      "[CV 4/5] END ......n_neighbors=5, weights=uniform;, score=nan total time=   0.4s\n"
     ]
    },
    {
     "name": "stderr",
     "output_type": "stream",
     "text": [
      "C:\\Users\\raven\\anaconda3\\lib\\site-packages\\sklearn\\model_selection\\_validation.py:776: UserWarning: Scoring failed. The score on this train-test partition for these parameters will be set to nan. Details: \n",
      "Traceback (most recent call last):\n",
      "  File \"C:\\Users\\raven\\anaconda3\\lib\\site-packages\\sklearn\\model_selection\\_validation.py\", line 767, in _score\n",
      "    scores = scorer(estimator, X_test, y_test)\n",
      "  File \"C:\\Users\\raven\\anaconda3\\lib\\site-packages\\sklearn\\metrics\\_scorer.py\", line 429, in _passthrough_scorer\n",
      "    return estimator.score(*args, **kwargs)\n",
      "  File \"C:\\Users\\raven\\anaconda3\\lib\\site-packages\\sklearn\\base.py\", line 666, in score\n",
      "    return accuracy_score(y, self.predict(X), sample_weight=sample_weight)\n",
      "  File \"C:\\Users\\raven\\anaconda3\\lib\\site-packages\\sklearn\\neighbors\\_classification.py\", line 226, in predict\n",
      "    neigh_ind = self.kneighbors(X, return_distance=False)\n",
      "  File \"C:\\Users\\raven\\anaconda3\\lib\\site-packages\\sklearn\\neighbors\\_base.py\", line 763, in kneighbors\n",
      "    results = PairwiseDistancesArgKmin.compute(\n",
      "  File \"sklearn\\metrics\\_pairwise_distances_reduction.pyx\", line 698, in sklearn.metrics._pairwise_distances_reduction.PairwiseDistancesArgKmin.compute\n",
      "  File \"C:\\Users\\raven\\anaconda3\\lib\\site-packages\\sklearn\\utils\\fixes.py\", line 151, in threadpool_limits\n",
      "    return threadpoolctl.threadpool_limits(limits=limits, user_api=user_api)\n",
      "  File \"C:\\Users\\raven\\anaconda3\\lib\\site-packages\\threadpoolctl.py\", line 171, in __init__\n",
      "    self._original_info = self._set_threadpool_limits()\n",
      "  File \"C:\\Users\\raven\\anaconda3\\lib\\site-packages\\threadpoolctl.py\", line 268, in _set_threadpool_limits\n",
      "    modules = _ThreadpoolInfo(prefixes=self._prefixes,\n",
      "  File \"C:\\Users\\raven\\anaconda3\\lib\\site-packages\\threadpoolctl.py\", line 340, in __init__\n",
      "    self._load_modules()\n",
      "  File \"C:\\Users\\raven\\anaconda3\\lib\\site-packages\\threadpoolctl.py\", line 373, in _load_modules\n",
      "    self._find_modules_with_enum_process_module_ex()\n",
      "  File \"C:\\Users\\raven\\anaconda3\\lib\\site-packages\\threadpoolctl.py\", line 485, in _find_modules_with_enum_process_module_ex\n",
      "    self._make_module_from_path(filepath)\n",
      "  File \"C:\\Users\\raven\\anaconda3\\lib\\site-packages\\threadpoolctl.py\", line 515, in _make_module_from_path\n",
      "    module = module_class(filepath, prefix, user_api, internal_api)\n",
      "  File \"C:\\Users\\raven\\anaconda3\\lib\\site-packages\\threadpoolctl.py\", line 606, in __init__\n",
      "    self.version = self.get_version()\n",
      "  File \"C:\\Users\\raven\\anaconda3\\lib\\site-packages\\threadpoolctl.py\", line 646, in get_version\n",
      "    config = get_config().split()\n",
      "AttributeError: 'NoneType' object has no attribute 'split'\n",
      "\n",
      "  warnings.warn(\n"
     ]
    },
    {
     "name": "stdout",
     "output_type": "stream",
     "text": [
      "[CV 5/5] END ......n_neighbors=5, weights=uniform;, score=nan total time=   0.3s\n"
     ]
    },
    {
     "name": "stderr",
     "output_type": "stream",
     "text": [
      "C:\\Users\\raven\\anaconda3\\lib\\site-packages\\sklearn\\model_selection\\_validation.py:776: UserWarning: Scoring failed. The score on this train-test partition for these parameters will be set to nan. Details: \n",
      "Traceback (most recent call last):\n",
      "  File \"C:\\Users\\raven\\anaconda3\\lib\\site-packages\\sklearn\\model_selection\\_validation.py\", line 767, in _score\n",
      "    scores = scorer(estimator, X_test, y_test)\n",
      "  File \"C:\\Users\\raven\\anaconda3\\lib\\site-packages\\sklearn\\metrics\\_scorer.py\", line 429, in _passthrough_scorer\n",
      "    return estimator.score(*args, **kwargs)\n",
      "  File \"C:\\Users\\raven\\anaconda3\\lib\\site-packages\\sklearn\\base.py\", line 666, in score\n",
      "    return accuracy_score(y, self.predict(X), sample_weight=sample_weight)\n",
      "  File \"C:\\Users\\raven\\anaconda3\\lib\\site-packages\\sklearn\\neighbors\\_classification.py\", line 229, in predict\n",
      "    neigh_dist, neigh_ind = self.kneighbors(X)\n",
      "  File \"C:\\Users\\raven\\anaconda3\\lib\\site-packages\\sklearn\\neighbors\\_base.py\", line 763, in kneighbors\n",
      "    results = PairwiseDistancesArgKmin.compute(\n",
      "  File \"sklearn\\metrics\\_pairwise_distances_reduction.pyx\", line 698, in sklearn.metrics._pairwise_distances_reduction.PairwiseDistancesArgKmin.compute\n",
      "  File \"C:\\Users\\raven\\anaconda3\\lib\\site-packages\\sklearn\\utils\\fixes.py\", line 151, in threadpool_limits\n",
      "    return threadpoolctl.threadpool_limits(limits=limits, user_api=user_api)\n",
      "  File \"C:\\Users\\raven\\anaconda3\\lib\\site-packages\\threadpoolctl.py\", line 171, in __init__\n",
      "    self._original_info = self._set_threadpool_limits()\n",
      "  File \"C:\\Users\\raven\\anaconda3\\lib\\site-packages\\threadpoolctl.py\", line 268, in _set_threadpool_limits\n",
      "    modules = _ThreadpoolInfo(prefixes=self._prefixes,\n",
      "  File \"C:\\Users\\raven\\anaconda3\\lib\\site-packages\\threadpoolctl.py\", line 340, in __init__\n",
      "    self._load_modules()\n",
      "  File \"C:\\Users\\raven\\anaconda3\\lib\\site-packages\\threadpoolctl.py\", line 373, in _load_modules\n",
      "    self._find_modules_with_enum_process_module_ex()\n",
      "  File \"C:\\Users\\raven\\anaconda3\\lib\\site-packages\\threadpoolctl.py\", line 485, in _find_modules_with_enum_process_module_ex\n",
      "    self._make_module_from_path(filepath)\n",
      "  File \"C:\\Users\\raven\\anaconda3\\lib\\site-packages\\threadpoolctl.py\", line 515, in _make_module_from_path\n",
      "    module = module_class(filepath, prefix, user_api, internal_api)\n",
      "  File \"C:\\Users\\raven\\anaconda3\\lib\\site-packages\\threadpoolctl.py\", line 606, in __init__\n",
      "    self.version = self.get_version()\n",
      "  File \"C:\\Users\\raven\\anaconda3\\lib\\site-packages\\threadpoolctl.py\", line 646, in get_version\n",
      "    config = get_config().split()\n",
      "AttributeError: 'NoneType' object has no attribute 'split'\n",
      "\n",
      "  warnings.warn(\n"
     ]
    },
    {
     "name": "stdout",
     "output_type": "stream",
     "text": [
      "[CV 1/5] END .....n_neighbors=5, weights=distance;, score=nan total time=   0.3s\n"
     ]
    },
    {
     "name": "stderr",
     "output_type": "stream",
     "text": [
      "C:\\Users\\raven\\anaconda3\\lib\\site-packages\\sklearn\\model_selection\\_validation.py:776: UserWarning: Scoring failed. The score on this train-test partition for these parameters will be set to nan. Details: \n",
      "Traceback (most recent call last):\n",
      "  File \"C:\\Users\\raven\\anaconda3\\lib\\site-packages\\sklearn\\model_selection\\_validation.py\", line 767, in _score\n",
      "    scores = scorer(estimator, X_test, y_test)\n",
      "  File \"C:\\Users\\raven\\anaconda3\\lib\\site-packages\\sklearn\\metrics\\_scorer.py\", line 429, in _passthrough_scorer\n",
      "    return estimator.score(*args, **kwargs)\n",
      "  File \"C:\\Users\\raven\\anaconda3\\lib\\site-packages\\sklearn\\base.py\", line 666, in score\n",
      "    return accuracy_score(y, self.predict(X), sample_weight=sample_weight)\n",
      "  File \"C:\\Users\\raven\\anaconda3\\lib\\site-packages\\sklearn\\neighbors\\_classification.py\", line 229, in predict\n",
      "    neigh_dist, neigh_ind = self.kneighbors(X)\n",
      "  File \"C:\\Users\\raven\\anaconda3\\lib\\site-packages\\sklearn\\neighbors\\_base.py\", line 763, in kneighbors\n",
      "    results = PairwiseDistancesArgKmin.compute(\n",
      "  File \"sklearn\\metrics\\_pairwise_distances_reduction.pyx\", line 698, in sklearn.metrics._pairwise_distances_reduction.PairwiseDistancesArgKmin.compute\n",
      "  File \"C:\\Users\\raven\\anaconda3\\lib\\site-packages\\sklearn\\utils\\fixes.py\", line 151, in threadpool_limits\n",
      "    return threadpoolctl.threadpool_limits(limits=limits, user_api=user_api)\n",
      "  File \"C:\\Users\\raven\\anaconda3\\lib\\site-packages\\threadpoolctl.py\", line 171, in __init__\n",
      "    self._original_info = self._set_threadpool_limits()\n",
      "  File \"C:\\Users\\raven\\anaconda3\\lib\\site-packages\\threadpoolctl.py\", line 268, in _set_threadpool_limits\n",
      "    modules = _ThreadpoolInfo(prefixes=self._prefixes,\n",
      "  File \"C:\\Users\\raven\\anaconda3\\lib\\site-packages\\threadpoolctl.py\", line 340, in __init__\n",
      "    self._load_modules()\n",
      "  File \"C:\\Users\\raven\\anaconda3\\lib\\site-packages\\threadpoolctl.py\", line 373, in _load_modules\n",
      "    self._find_modules_with_enum_process_module_ex()\n",
      "  File \"C:\\Users\\raven\\anaconda3\\lib\\site-packages\\threadpoolctl.py\", line 485, in _find_modules_with_enum_process_module_ex\n",
      "    self._make_module_from_path(filepath)\n",
      "  File \"C:\\Users\\raven\\anaconda3\\lib\\site-packages\\threadpoolctl.py\", line 515, in _make_module_from_path\n",
      "    module = module_class(filepath, prefix, user_api, internal_api)\n",
      "  File \"C:\\Users\\raven\\anaconda3\\lib\\site-packages\\threadpoolctl.py\", line 606, in __init__\n",
      "    self.version = self.get_version()\n",
      "  File \"C:\\Users\\raven\\anaconda3\\lib\\site-packages\\threadpoolctl.py\", line 646, in get_version\n",
      "    config = get_config().split()\n",
      "AttributeError: 'NoneType' object has no attribute 'split'\n",
      "\n",
      "  warnings.warn(\n"
     ]
    },
    {
     "name": "stdout",
     "output_type": "stream",
     "text": [
      "[CV 2/5] END .....n_neighbors=5, weights=distance;, score=nan total time=   0.3s\n"
     ]
    },
    {
     "name": "stderr",
     "output_type": "stream",
     "text": [
      "C:\\Users\\raven\\anaconda3\\lib\\site-packages\\sklearn\\model_selection\\_validation.py:776: UserWarning: Scoring failed. The score on this train-test partition for these parameters will be set to nan. Details: \n",
      "Traceback (most recent call last):\n",
      "  File \"C:\\Users\\raven\\anaconda3\\lib\\site-packages\\sklearn\\model_selection\\_validation.py\", line 767, in _score\n",
      "    scores = scorer(estimator, X_test, y_test)\n",
      "  File \"C:\\Users\\raven\\anaconda3\\lib\\site-packages\\sklearn\\metrics\\_scorer.py\", line 429, in _passthrough_scorer\n",
      "    return estimator.score(*args, **kwargs)\n",
      "  File \"C:\\Users\\raven\\anaconda3\\lib\\site-packages\\sklearn\\base.py\", line 666, in score\n",
      "    return accuracy_score(y, self.predict(X), sample_weight=sample_weight)\n",
      "  File \"C:\\Users\\raven\\anaconda3\\lib\\site-packages\\sklearn\\neighbors\\_classification.py\", line 229, in predict\n",
      "    neigh_dist, neigh_ind = self.kneighbors(X)\n",
      "  File \"C:\\Users\\raven\\anaconda3\\lib\\site-packages\\sklearn\\neighbors\\_base.py\", line 763, in kneighbors\n",
      "    results = PairwiseDistancesArgKmin.compute(\n",
      "  File \"sklearn\\metrics\\_pairwise_distances_reduction.pyx\", line 698, in sklearn.metrics._pairwise_distances_reduction.PairwiseDistancesArgKmin.compute\n",
      "  File \"C:\\Users\\raven\\anaconda3\\lib\\site-packages\\sklearn\\utils\\fixes.py\", line 151, in threadpool_limits\n",
      "    return threadpoolctl.threadpool_limits(limits=limits, user_api=user_api)\n",
      "  File \"C:\\Users\\raven\\anaconda3\\lib\\site-packages\\threadpoolctl.py\", line 171, in __init__\n",
      "    self._original_info = self._set_threadpool_limits()\n",
      "  File \"C:\\Users\\raven\\anaconda3\\lib\\site-packages\\threadpoolctl.py\", line 268, in _set_threadpool_limits\n",
      "    modules = _ThreadpoolInfo(prefixes=self._prefixes,\n",
      "  File \"C:\\Users\\raven\\anaconda3\\lib\\site-packages\\threadpoolctl.py\", line 340, in __init__\n",
      "    self._load_modules()\n",
      "  File \"C:\\Users\\raven\\anaconda3\\lib\\site-packages\\threadpoolctl.py\", line 373, in _load_modules\n",
      "    self._find_modules_with_enum_process_module_ex()\n",
      "  File \"C:\\Users\\raven\\anaconda3\\lib\\site-packages\\threadpoolctl.py\", line 485, in _find_modules_with_enum_process_module_ex\n",
      "    self._make_module_from_path(filepath)\n",
      "  File \"C:\\Users\\raven\\anaconda3\\lib\\site-packages\\threadpoolctl.py\", line 515, in _make_module_from_path\n",
      "    module = module_class(filepath, prefix, user_api, internal_api)\n",
      "  File \"C:\\Users\\raven\\anaconda3\\lib\\site-packages\\threadpoolctl.py\", line 606, in __init__\n",
      "    self.version = self.get_version()\n",
      "  File \"C:\\Users\\raven\\anaconda3\\lib\\site-packages\\threadpoolctl.py\", line 646, in get_version\n",
      "    config = get_config().split()\n",
      "AttributeError: 'NoneType' object has no attribute 'split'\n",
      "\n",
      "  warnings.warn(\n"
     ]
    },
    {
     "name": "stdout",
     "output_type": "stream",
     "text": [
      "[CV 3/5] END .....n_neighbors=5, weights=distance;, score=nan total time=   0.4s\n"
     ]
    },
    {
     "name": "stderr",
     "output_type": "stream",
     "text": [
      "C:\\Users\\raven\\anaconda3\\lib\\site-packages\\sklearn\\model_selection\\_validation.py:776: UserWarning: Scoring failed. The score on this train-test partition for these parameters will be set to nan. Details: \n",
      "Traceback (most recent call last):\n",
      "  File \"C:\\Users\\raven\\anaconda3\\lib\\site-packages\\sklearn\\model_selection\\_validation.py\", line 767, in _score\n",
      "    scores = scorer(estimator, X_test, y_test)\n",
      "  File \"C:\\Users\\raven\\anaconda3\\lib\\site-packages\\sklearn\\metrics\\_scorer.py\", line 429, in _passthrough_scorer\n",
      "    return estimator.score(*args, **kwargs)\n",
      "  File \"C:\\Users\\raven\\anaconda3\\lib\\site-packages\\sklearn\\base.py\", line 666, in score\n",
      "    return accuracy_score(y, self.predict(X), sample_weight=sample_weight)\n",
      "  File \"C:\\Users\\raven\\anaconda3\\lib\\site-packages\\sklearn\\neighbors\\_classification.py\", line 229, in predict\n",
      "    neigh_dist, neigh_ind = self.kneighbors(X)\n",
      "  File \"C:\\Users\\raven\\anaconda3\\lib\\site-packages\\sklearn\\neighbors\\_base.py\", line 763, in kneighbors\n",
      "    results = PairwiseDistancesArgKmin.compute(\n",
      "  File \"sklearn\\metrics\\_pairwise_distances_reduction.pyx\", line 698, in sklearn.metrics._pairwise_distances_reduction.PairwiseDistancesArgKmin.compute\n",
      "  File \"C:\\Users\\raven\\anaconda3\\lib\\site-packages\\sklearn\\utils\\fixes.py\", line 151, in threadpool_limits\n",
      "    return threadpoolctl.threadpool_limits(limits=limits, user_api=user_api)\n",
      "  File \"C:\\Users\\raven\\anaconda3\\lib\\site-packages\\threadpoolctl.py\", line 171, in __init__\n",
      "    self._original_info = self._set_threadpool_limits()\n",
      "  File \"C:\\Users\\raven\\anaconda3\\lib\\site-packages\\threadpoolctl.py\", line 268, in _set_threadpool_limits\n",
      "    modules = _ThreadpoolInfo(prefixes=self._prefixes,\n",
      "  File \"C:\\Users\\raven\\anaconda3\\lib\\site-packages\\threadpoolctl.py\", line 340, in __init__\n",
      "    self._load_modules()\n",
      "  File \"C:\\Users\\raven\\anaconda3\\lib\\site-packages\\threadpoolctl.py\", line 373, in _load_modules\n",
      "    self._find_modules_with_enum_process_module_ex()\n",
      "  File \"C:\\Users\\raven\\anaconda3\\lib\\site-packages\\threadpoolctl.py\", line 485, in _find_modules_with_enum_process_module_ex\n",
      "    self._make_module_from_path(filepath)\n",
      "  File \"C:\\Users\\raven\\anaconda3\\lib\\site-packages\\threadpoolctl.py\", line 515, in _make_module_from_path\n",
      "    module = module_class(filepath, prefix, user_api, internal_api)\n",
      "  File \"C:\\Users\\raven\\anaconda3\\lib\\site-packages\\threadpoolctl.py\", line 606, in __init__\n",
      "    self.version = self.get_version()\n",
      "  File \"C:\\Users\\raven\\anaconda3\\lib\\site-packages\\threadpoolctl.py\", line 646, in get_version\n",
      "    config = get_config().split()\n",
      "AttributeError: 'NoneType' object has no attribute 'split'\n",
      "\n",
      "  warnings.warn(\n"
     ]
    },
    {
     "name": "stdout",
     "output_type": "stream",
     "text": [
      "[CV 4/5] END .....n_neighbors=5, weights=distance;, score=nan total time=   0.3s\n"
     ]
    },
    {
     "name": "stderr",
     "output_type": "stream",
     "text": [
      "C:\\Users\\raven\\anaconda3\\lib\\site-packages\\sklearn\\model_selection\\_validation.py:776: UserWarning: Scoring failed. The score on this train-test partition for these parameters will be set to nan. Details: \n",
      "Traceback (most recent call last):\n",
      "  File \"C:\\Users\\raven\\anaconda3\\lib\\site-packages\\sklearn\\model_selection\\_validation.py\", line 767, in _score\n",
      "    scores = scorer(estimator, X_test, y_test)\n",
      "  File \"C:\\Users\\raven\\anaconda3\\lib\\site-packages\\sklearn\\metrics\\_scorer.py\", line 429, in _passthrough_scorer\n",
      "    return estimator.score(*args, **kwargs)\n",
      "  File \"C:\\Users\\raven\\anaconda3\\lib\\site-packages\\sklearn\\base.py\", line 666, in score\n",
      "    return accuracy_score(y, self.predict(X), sample_weight=sample_weight)\n",
      "  File \"C:\\Users\\raven\\anaconda3\\lib\\site-packages\\sklearn\\neighbors\\_classification.py\", line 229, in predict\n",
      "    neigh_dist, neigh_ind = self.kneighbors(X)\n",
      "  File \"C:\\Users\\raven\\anaconda3\\lib\\site-packages\\sklearn\\neighbors\\_base.py\", line 763, in kneighbors\n",
      "    results = PairwiseDistancesArgKmin.compute(\n",
      "  File \"sklearn\\metrics\\_pairwise_distances_reduction.pyx\", line 698, in sklearn.metrics._pairwise_distances_reduction.PairwiseDistancesArgKmin.compute\n",
      "  File \"C:\\Users\\raven\\anaconda3\\lib\\site-packages\\sklearn\\utils\\fixes.py\", line 151, in threadpool_limits\n",
      "    return threadpoolctl.threadpool_limits(limits=limits, user_api=user_api)\n",
      "  File \"C:\\Users\\raven\\anaconda3\\lib\\site-packages\\threadpoolctl.py\", line 171, in __init__\n",
      "    self._original_info = self._set_threadpool_limits()\n",
      "  File \"C:\\Users\\raven\\anaconda3\\lib\\site-packages\\threadpoolctl.py\", line 268, in _set_threadpool_limits\n",
      "    modules = _ThreadpoolInfo(prefixes=self._prefixes,\n",
      "  File \"C:\\Users\\raven\\anaconda3\\lib\\site-packages\\threadpoolctl.py\", line 340, in __init__\n",
      "    self._load_modules()\n",
      "  File \"C:\\Users\\raven\\anaconda3\\lib\\site-packages\\threadpoolctl.py\", line 373, in _load_modules\n",
      "    self._find_modules_with_enum_process_module_ex()\n",
      "  File \"C:\\Users\\raven\\anaconda3\\lib\\site-packages\\threadpoolctl.py\", line 485, in _find_modules_with_enum_process_module_ex\n",
      "    self._make_module_from_path(filepath)\n",
      "  File \"C:\\Users\\raven\\anaconda3\\lib\\site-packages\\threadpoolctl.py\", line 515, in _make_module_from_path\n",
      "    module = module_class(filepath, prefix, user_api, internal_api)\n",
      "  File \"C:\\Users\\raven\\anaconda3\\lib\\site-packages\\threadpoolctl.py\", line 606, in __init__\n",
      "    self.version = self.get_version()\n",
      "  File \"C:\\Users\\raven\\anaconda3\\lib\\site-packages\\threadpoolctl.py\", line 646, in get_version\n",
      "    config = get_config().split()\n",
      "AttributeError: 'NoneType' object has no attribute 'split'\n",
      "\n",
      "  warnings.warn(\n",
      "C:\\Users\\raven\\anaconda3\\lib\\site-packages\\sklearn\\model_selection\\_search.py:953: UserWarning: One or more of the test scores are non-finite: [nan nan nan nan nan nan]\n",
      "  warnings.warn(\n"
     ]
    },
    {
     "name": "stdout",
     "output_type": "stream",
     "text": [
      "[CV 5/5] END .....n_neighbors=5, weights=distance;, score=nan total time=   0.4s\n"
     ]
    },
    {
     "data": {
      "text/plain": [
       "{'n_neighbors': 3, 'weights': 'uniform'}"
      ]
     },
     "execution_count": 38,
     "metadata": {},
     "output_type": "execute_result"
    }
   ],
   "source": [
    "#1. Try to build a classifier for the MNIST dataset that achieves over 97% accuracy\n",
    "#on the test set. Hint: the KNeighborsClassifier works quite well for this task;\n",
    "#you just need to find good hyperparameter values (try a grid search on the\n",
    "#weights and n_neighbors hyperparameters).\n",
    "from sklearn.model_selection import GridSearchCV\n",
    "\n",
    "param_grid = [{'weights': [\"uniform\", \"distance\"], 'n_neighbors': [3, 4, 5]}]\n",
    "\n",
    "knn_clf = KNeighborsClassifier()\n",
    "grid_search = GridSearchCV(knn_clf, param_grid, cv=5, verbose=3)\n",
    "grid_search.fit(X_train, y_train)\n",
    "\n",
    "from sklearn.metrics import accuracy_score\n",
    "\n",
    "y_pred = grid_search.predict(X_test)\n",
    "accuracy_score(y_test, y_pred)"
   ]
  },
  {
   "cell_type": "code",
   "execution_count": 52,
   "id": "acdbc033",
   "metadata": {},
   "outputs": [
    {
     "data": {
      "image/png": "[encoded data removed]",
      "text/plain": [
       "<Figure size 432x288 with 1 Axes>"
      ]
     },
     "metadata": {
      "needs_background": "light"
     },
     "output_type": "display_data"
    }
   ],
   "source": [
    "#2. Write a function that can shift an MNIST image in any direction (left, right, up,\n",
    "#or down) by one pixel.5 Then, for each image in the training set, create four shif‐\n",
    "#ted copies (one per direction) and add them to the training set. Finally, train your\n",
    "#best model on this expanded training set and measure its accuracy on the test set.\n",
    "#You should observe that your model performs even better now! This technique of\n",
    "#artificially growing the training set is called data augmentation or training set\n",
    "#expansion.\n",
    "\n",
    "#Original\n",
    "some_digit = X.to_numpy()[0]\n",
    "some_digit_image = some_digit.reshape(28, 28)\n",
    "plt.imshow(some_digit_image, cmap = mpl.cm.binary, interpolation=\"nearest\")\n",
    "plt.gray()\n",
    "plt.show()"
   ]
  },
  {
   "cell_type": "code",
   "execution_count": 60,
   "id": "93f0be3b",
   "metadata": {},
   "outputs": [
    {
     "data": {
      "text/plain": [
       "<Figure size 432x288 with 0 Axes>"
      ]
     },
     "metadata": {},
     "output_type": "display_data"
    },
    {
     "data": {
      "image/png": "[encoded data removed]",
      "text/plain": [
       "<Figure size 288x288 with 1 Axes>"
      ]
     },
     "metadata": {
      "needs_background": "light"
     },
     "output_type": "display_data"
    }
   ],
   "source": [
    "#One Pixel Down:\n",
    "down = np.roll(some_digit_image, 1, axis=0)\n",
    "plt.gray()\n",
    "plt.matshow(down)\n",
    "plt.show()"
   ]
  },
  {
   "cell_type": "code",
   "execution_count": 61,
   "id": "1bfa3900",
   "metadata": {
    "scrolled": true
   },
   "outputs": [
    {
     "data": {
      "text/plain": [
       "<Figure size 432x288 with 0 Axes>"
      ]
     },
     "metadata": {},
     "output_type": "display_data"
    },
    {
     "data": {
      "image/png": "[encoded data removed]",
      "text/plain": [
       "<Figure size 288x288 with 1 Axes>"
      ]
     },
     "metadata": {
      "needs_background": "light"
     },
     "output_type": "display_data"
    }
   ],
   "source": [
    "#One Pixel Up:\n",
    "up = np.roll(some_digit_image, -1, axis=0)\n",
    "plt.gray()\n",
    "plt.matshow(up)\n",
    "plt.show()"
   ]
  },
  {
   "cell_type": "code",
   "execution_count": 63,
   "id": "97375c3c",
   "metadata": {},
   "outputs": [
    {
     "data": {
      "text/plain": [
       "<Figure size 432x288 with 0 Axes>"
      ]
     },
     "metadata": {},
     "output_type": "display_data"
    },
    {
     "data": {
      "image/png": "[encoded data removed]",
      "text/plain": [
       "<Figure size 288x288 with 1 Axes>"
      ]
     },
     "metadata": {
      "needs_background": "light"
     },
     "output_type": "display_data"
    }
   ],
   "source": [
    "#One Pixel Left:\n",
    "left = np.roll(some_digit_image, -1, axis=1)\n",
    "plt.gray()\n",
    "plt.matshow(left)\n",
    "plt.show()"
   ]
  },
  {
   "cell_type": "code",
   "execution_count": 64,
   "id": "579742be",
   "metadata": {},
   "outputs": [
    {
     "data": {
      "text/plain": [
       "<Figure size 432x288 with 0 Axes>"
      ]
     },
     "metadata": {},
     "output_type": "display_data"
    },
    {
     "data": {
      "image/png": "[encoded data removed]",
      "text/plain": [
       "<Figure size 288x288 with 1 Axes>"
      ]
     },
     "metadata": {
      "needs_background": "light"
     },
     "output_type": "display_data"
    }
   ],
   "source": [
    "#One Pixel Right:\n",
    "right = np.roll(some_digit_image, 1, axis=1)\n",
    "plt.gray()\n",
    "plt.matshow(right)\n",
    "plt.show()"
   ]
  },
  {
   "cell_type": "code",
   "execution_count": 65,
   "id": "5cb6c650",
   "metadata": {},
   "outputs": [
    {
     "ename": "ValueError",
     "evalue": "Found array with dim 3. KNeighborsClassifier expected <= 2.",
     "output_type": "error",
     "traceback": [
      "\u001b[1;31m---------------------------------------------------------------------------\u001b[0m",
      "\u001b[1;31mValueError\u001b[0m                                Traceback (most recent call last)",
      "Input \u001b[1;32mIn [65]\u001b[0m, in \u001b[0;36m<cell line: 3>\u001b[1;34m()\u001b[0m\n\u001b[0;32m      1\u001b[0m X_augmented \u001b[38;5;241m=\u001b[39m [left, right]\n\u001b[0;32m      2\u001b[0m Y_augmented \u001b[38;5;241m=\u001b[39m [up, down]\n\u001b[1;32m----> 3\u001b[0m \u001b[43mknn_clf\u001b[49m\u001b[38;5;241;43m.\u001b[39;49m\u001b[43mfit\u001b[49m\u001b[43m(\u001b[49m\u001b[43mX_augmented\u001b[49m\u001b[43m,\u001b[49m\u001b[43m \u001b[49m\u001b[43mY_augmented\u001b[49m\u001b[43m)\u001b[49m\n",
      "File \u001b[1;32m~\\anaconda3\\lib\\site-packages\\sklearn\\neighbors\\_classification.py:207\u001b[0m, in \u001b[0;36mKNeighborsClassifier.fit\u001b[1;34m(self, X, y)\u001b[0m\n\u001b[0;32m    188\u001b[0m \u001b[38;5;124;03m\"\"\"Fit the k-nearest neighbors classifier from the training dataset.\u001b[39;00m\n\u001b[0;32m    189\u001b[0m \n\u001b[0;32m    190\u001b[0m \u001b[38;5;124;03mParameters\u001b[39;00m\n\u001b[1;32m   (...)\u001b[0m\n\u001b[0;32m    203\u001b[0m \u001b[38;5;124;03m    The fitted k-nearest neighbors classifier.\u001b[39;00m\n\u001b[0;32m    204\u001b[0m \u001b[38;5;124;03m\"\"\"\u001b[39;00m\n\u001b[0;32m    205\u001b[0m \u001b[38;5;28mself\u001b[39m\u001b[38;5;241m.\u001b[39mweights \u001b[38;5;241m=\u001b[39m _check_weights(\u001b[38;5;28mself\u001b[39m\u001b[38;5;241m.\u001b[39mweights)\n\u001b[1;32m--> 207\u001b[0m \u001b[38;5;28;01mreturn\u001b[39;00m \u001b[38;5;28;43mself\u001b[39;49m\u001b[38;5;241;43m.\u001b[39;49m\u001b[43m_fit\u001b[49m\u001b[43m(\u001b[49m\u001b[43mX\u001b[49m\u001b[43m,\u001b[49m\u001b[43m \u001b[49m\u001b[43my\u001b[49m\u001b[43m)\u001b[49m\n",
      "File \u001b[1;32m~\\anaconda3\\lib\\site-packages\\sklearn\\neighbors\\_base.py:407\u001b[0m, in \u001b[0;36mNeighborsBase._fit\u001b[1;34m(self, X, y)\u001b[0m\n\u001b[0;32m    405\u001b[0m \u001b[38;5;28;01mif\u001b[39;00m \u001b[38;5;28mself\u001b[39m\u001b[38;5;241m.\u001b[39m_get_tags()[\u001b[38;5;124m\"\u001b[39m\u001b[38;5;124mrequires_y\u001b[39m\u001b[38;5;124m\"\u001b[39m]:\n\u001b[0;32m    406\u001b[0m     \u001b[38;5;28;01mif\u001b[39;00m \u001b[38;5;129;01mnot\u001b[39;00m \u001b[38;5;28misinstance\u001b[39m(X, (KDTree, BallTree, NeighborsBase)):\n\u001b[1;32m--> 407\u001b[0m         X, y \u001b[38;5;241m=\u001b[39m \u001b[38;5;28;43mself\u001b[39;49m\u001b[38;5;241;43m.\u001b[39;49m\u001b[43m_validate_data\u001b[49m\u001b[43m(\u001b[49m\n\u001b[0;32m    408\u001b[0m \u001b[43m            \u001b[49m\u001b[43mX\u001b[49m\u001b[43m,\u001b[49m\u001b[43m \u001b[49m\u001b[43my\u001b[49m\u001b[43m,\u001b[49m\u001b[43m \u001b[49m\u001b[43maccept_sparse\u001b[49m\u001b[38;5;241;43m=\u001b[39;49m\u001b[38;5;124;43m\"\u001b[39;49m\u001b[38;5;124;43mcsr\u001b[39;49m\u001b[38;5;124;43m\"\u001b[39;49m\u001b[43m,\u001b[49m\u001b[43m \u001b[49m\u001b[43mmulti_output\u001b[49m\u001b[38;5;241;43m=\u001b[39;49m\u001b[38;5;28;43;01mTrue\u001b[39;49;00m\u001b[43m,\u001b[49m\u001b[43m \u001b[49m\u001b[43morder\u001b[49m\u001b[38;5;241;43m=\u001b[39;49m\u001b[38;5;124;43m\"\u001b[39;49m\u001b[38;5;124;43mC\u001b[39;49m\u001b[38;5;124;43m\"\u001b[39;49m\n\u001b[0;32m    409\u001b[0m \u001b[43m        \u001b[49m\u001b[43m)\u001b[49m\n\u001b[0;32m    411\u001b[0m     \u001b[38;5;28;01mif\u001b[39;00m is_classifier(\u001b[38;5;28mself\u001b[39m):\n\u001b[0;32m    412\u001b[0m         \u001b[38;5;66;03m# Classification targets require a specific format\u001b[39;00m\n\u001b[0;32m    413\u001b[0m         \u001b[38;5;28;01mif\u001b[39;00m y\u001b[38;5;241m.\u001b[39mndim \u001b[38;5;241m==\u001b[39m \u001b[38;5;241m1\u001b[39m \u001b[38;5;129;01mor\u001b[39;00m y\u001b[38;5;241m.\u001b[39mndim \u001b[38;5;241m==\u001b[39m \u001b[38;5;241m2\u001b[39m \u001b[38;5;129;01mand\u001b[39;00m y\u001b[38;5;241m.\u001b[39mshape[\u001b[38;5;241m1\u001b[39m] \u001b[38;5;241m==\u001b[39m \u001b[38;5;241m1\u001b[39m:\n",
      "File \u001b[1;32m~\\anaconda3\\lib\\site-packages\\sklearn\\base.py:596\u001b[0m, in \u001b[0;36mBaseEstimator._validate_data\u001b[1;34m(self, X, y, reset, validate_separately, **check_params)\u001b[0m\n\u001b[0;32m    594\u001b[0m         y \u001b[38;5;241m=\u001b[39m check_array(y, input_name\u001b[38;5;241m=\u001b[39m\u001b[38;5;124m\"\u001b[39m\u001b[38;5;124my\u001b[39m\u001b[38;5;124m\"\u001b[39m, \u001b[38;5;241m*\u001b[39m\u001b[38;5;241m*\u001b[39mcheck_y_params)\n\u001b[0;32m    595\u001b[0m     \u001b[38;5;28;01melse\u001b[39;00m:\n\u001b[1;32m--> 596\u001b[0m         X, y \u001b[38;5;241m=\u001b[39m check_X_y(X, y, \u001b[38;5;241m*\u001b[39m\u001b[38;5;241m*\u001b[39mcheck_params)\n\u001b[0;32m    597\u001b[0m     out \u001b[38;5;241m=\u001b[39m X, y\n\u001b[0;32m    599\u001b[0m \u001b[38;5;28;01mif\u001b[39;00m \u001b[38;5;129;01mnot\u001b[39;00m no_val_X \u001b[38;5;129;01mand\u001b[39;00m check_params\u001b[38;5;241m.\u001b[39mget(\u001b[38;5;124m\"\u001b[39m\u001b[38;5;124mensure_2d\u001b[39m\u001b[38;5;124m\"\u001b[39m, \u001b[38;5;28;01mTrue\u001b[39;00m):\n",
      "File \u001b[1;32m~\\anaconda3\\lib\\site-packages\\sklearn\\utils\\validation.py:1074\u001b[0m, in \u001b[0;36mcheck_X_y\u001b[1;34m(X, y, accept_sparse, accept_large_sparse, dtype, order, copy, force_all_finite, ensure_2d, allow_nd, multi_output, ensure_min_samples, ensure_min_features, y_numeric, estimator)\u001b[0m\n\u001b[0;32m   1069\u001b[0m         estimator_name \u001b[38;5;241m=\u001b[39m _check_estimator_name(estimator)\n\u001b[0;32m   1070\u001b[0m     \u001b[38;5;28;01mraise\u001b[39;00m \u001b[38;5;167;01mValueError\u001b[39;00m(\n\u001b[0;32m   1071\u001b[0m         \u001b[38;5;124mf\u001b[39m\u001b[38;5;124m\"\u001b[39m\u001b[38;5;132;01m{\u001b[39;00mestimator_name\u001b[38;5;132;01m}\u001b[39;00m\u001b[38;5;124m requires y to be passed, but the target y is None\u001b[39m\u001b[38;5;124m\"\u001b[39m\n\u001b[0;32m   1072\u001b[0m     )\n\u001b[1;32m-> 1074\u001b[0m X \u001b[38;5;241m=\u001b[39m \u001b[43mcheck_array\u001b[49m\u001b[43m(\u001b[49m\n\u001b[0;32m   1075\u001b[0m \u001b[43m    \u001b[49m\u001b[43mX\u001b[49m\u001b[43m,\u001b[49m\n\u001b[0;32m   1076\u001b[0m \u001b[43m    \u001b[49m\u001b[43maccept_sparse\u001b[49m\u001b[38;5;241;43m=\u001b[39;49m\u001b[43maccept_sparse\u001b[49m\u001b[43m,\u001b[49m\n\u001b[0;32m   1077\u001b[0m \u001b[43m    \u001b[49m\u001b[43maccept_large_sparse\u001b[49m\u001b[38;5;241;43m=\u001b[39;49m\u001b[43maccept_large_sparse\u001b[49m\u001b[43m,\u001b[49m\n\u001b[0;32m   1078\u001b[0m \u001b[43m    \u001b[49m\u001b[43mdtype\u001b[49m\u001b[38;5;241;43m=\u001b[39;49m\u001b[43mdtype\u001b[49m\u001b[43m,\u001b[49m\n\u001b[0;32m   1079\u001b[0m \u001b[43m    \u001b[49m\u001b[43morder\u001b[49m\u001b[38;5;241;43m=\u001b[39;49m\u001b[43morder\u001b[49m\u001b[43m,\u001b[49m\n\u001b[0;32m   1080\u001b[0m \u001b[43m    \u001b[49m\u001b[43mcopy\u001b[49m\u001b[38;5;241;43m=\u001b[39;49m\u001b[43mcopy\u001b[49m\u001b[43m,\u001b[49m\n\u001b[0;32m   1081\u001b[0m \u001b[43m    \u001b[49m\u001b[43mforce_all_finite\u001b[49m\u001b[38;5;241;43m=\u001b[39;49m\u001b[43mforce_all_finite\u001b[49m\u001b[43m,\u001b[49m\n\u001b[0;32m   1082\u001b[0m \u001b[43m    \u001b[49m\u001b[43mensure_2d\u001b[49m\u001b[38;5;241;43m=\u001b[39;49m\u001b[43mensure_2d\u001b[49m\u001b[43m,\u001b[49m\n\u001b[0;32m   1083\u001b[0m \u001b[43m    \u001b[49m\u001b[43mallow_nd\u001b[49m\u001b[38;5;241;43m=\u001b[39;49m\u001b[43mallow_nd\u001b[49m\u001b[43m,\u001b[49m\n\u001b[0;32m   1084\u001b[0m \u001b[43m    \u001b[49m\u001b[43mensure_min_samples\u001b[49m\u001b[38;5;241;43m=\u001b[39;49m\u001b[43mensure_min_samples\u001b[49m\u001b[43m,\u001b[49m\n\u001b[0;32m   1085\u001b[0m \u001b[43m    \u001b[49m\u001b[43mensure_min_features\u001b[49m\u001b[38;5;241;43m=\u001b[39;49m\u001b[43mensure_min_features\u001b[49m\u001b[43m,\u001b[49m\n\u001b[0;32m   1086\u001b[0m \u001b[43m    \u001b[49m\u001b[43mestimator\u001b[49m\u001b[38;5;241;43m=\u001b[39;49m\u001b[43mestimator\u001b[49m\u001b[43m,\u001b[49m\n\u001b[0;32m   1087\u001b[0m \u001b[43m    \u001b[49m\u001b[43minput_name\u001b[49m\u001b[38;5;241;43m=\u001b[39;49m\u001b[38;5;124;43m\"\u001b[39;49m\u001b[38;5;124;43mX\u001b[39;49m\u001b[38;5;124;43m\"\u001b[39;49m\u001b[43m,\u001b[49m\n\u001b[0;32m   1088\u001b[0m \u001b[43m\u001b[49m\u001b[43m)\u001b[49m\n\u001b[0;32m   1090\u001b[0m y \u001b[38;5;241m=\u001b[39m _check_y(y, multi_output\u001b[38;5;241m=\u001b[39mmulti_output, y_numeric\u001b[38;5;241m=\u001b[39my_numeric, estimator\u001b[38;5;241m=\u001b[39mestimator)\n\u001b[0;32m   1092\u001b[0m check_consistent_length(X, y)\n",
      "File \u001b[1;32m~\\anaconda3\\lib\\site-packages\\sklearn\\utils\\validation.py:893\u001b[0m, in \u001b[0;36mcheck_array\u001b[1;34m(array, accept_sparse, accept_large_sparse, dtype, order, copy, force_all_finite, ensure_2d, allow_nd, ensure_min_samples, ensure_min_features, estimator, input_name)\u001b[0m\n\u001b[0;32m    887\u001b[0m     \u001b[38;5;28;01mraise\u001b[39;00m \u001b[38;5;167;01mValueError\u001b[39;00m(\n\u001b[0;32m    888\u001b[0m         \u001b[38;5;124m\"\u001b[39m\u001b[38;5;124mdtype=\u001b[39m\u001b[38;5;124m'\u001b[39m\u001b[38;5;124mnumeric\u001b[39m\u001b[38;5;124m'\u001b[39m\u001b[38;5;124m is not compatible with arrays of bytes/strings.\u001b[39m\u001b[38;5;124m\"\u001b[39m\n\u001b[0;32m    889\u001b[0m         \u001b[38;5;124m\"\u001b[39m\u001b[38;5;124mConvert your data to numeric values explicitly instead.\u001b[39m\u001b[38;5;124m\"\u001b[39m\n\u001b[0;32m    890\u001b[0m     )\n\u001b[0;32m    892\u001b[0m \u001b[38;5;28;01mif\u001b[39;00m \u001b[38;5;129;01mnot\u001b[39;00m allow_nd \u001b[38;5;129;01mand\u001b[39;00m array\u001b[38;5;241m.\u001b[39mndim \u001b[38;5;241m>\u001b[39m\u001b[38;5;241m=\u001b[39m \u001b[38;5;241m3\u001b[39m:\n\u001b[1;32m--> 893\u001b[0m     \u001b[38;5;28;01mraise\u001b[39;00m \u001b[38;5;167;01mValueError\u001b[39;00m(\n\u001b[0;32m    894\u001b[0m         \u001b[38;5;124m\"\u001b[39m\u001b[38;5;124mFound array with dim \u001b[39m\u001b[38;5;132;01m%d\u001b[39;00m\u001b[38;5;124m. \u001b[39m\u001b[38;5;132;01m%s\u001b[39;00m\u001b[38;5;124m expected <= 2.\u001b[39m\u001b[38;5;124m\"\u001b[39m\n\u001b[0;32m    895\u001b[0m         \u001b[38;5;241m%\u001b[39m (array\u001b[38;5;241m.\u001b[39mndim, estimator_name)\n\u001b[0;32m    896\u001b[0m     )\n\u001b[0;32m    898\u001b[0m \u001b[38;5;28;01mif\u001b[39;00m force_all_finite:\n\u001b[0;32m    899\u001b[0m     _assert_all_finite(\n\u001b[0;32m    900\u001b[0m         array,\n\u001b[0;32m    901\u001b[0m         input_name\u001b[38;5;241m=\u001b[39minput_name,\n\u001b[0;32m    902\u001b[0m         estimator_name\u001b[38;5;241m=\u001b[39mestimator_name,\n\u001b[0;32m    903\u001b[0m         allow_nan\u001b[38;5;241m=\u001b[39mforce_all_finite \u001b[38;5;241m==\u001b[39m \u001b[38;5;124m\"\u001b[39m\u001b[38;5;124mallow-nan\u001b[39m\u001b[38;5;124m\"\u001b[39m,\n\u001b[0;32m    904\u001b[0m     )\n",
      "\u001b[1;31mValueError\u001b[0m: Found array with dim 3. KNeighborsClassifier expected <= 2."
     ]
    }
   ],
   "source": [
    "X_augmented = [left, right]\n",
    "Y_augmented = [up, down]\n",
    "knn_clf.fit(X_augmented, Y_augmented)"
   ]
  }
 ],
 "metadata": {
  "kernelspec": {
   "display_name": "Python 3 (ipykernel)",
   "language": "python",
   "name": "python3"
  },
  "language_info": {
   "codemirror_mode": {
    "name": "ipython",
    "version": 3
   },
   "file_extension": ".py",
   "mimetype": "text/x-python",
   "name": "python",
   "nbconvert_exporter": "python",
   "pygments_lexer": "ipython3",
   "version": "3.9.12"
  }
 },
 "nbformat": 4,
 "nbformat_minor": 5
}
